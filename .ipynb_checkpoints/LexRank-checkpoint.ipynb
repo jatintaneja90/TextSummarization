{
 "cells": [
  {
   "cell_type": "markdown",
   "metadata": {},
   "source": [
    "# reading data from dataset"
   ]
  },
  {
   "cell_type": "code",
   "execution_count": 131,
   "metadata": {
    "collapsed": true
   },
   "outputs": [],
   "source": [
    "#  read files from cnn and dailymail and add them to a dictionary where key is file name and values are list of \n",
    "#  sentences in that file.\n",
    "from os import listdir,getcwd\n",
    "from os.path import isfile, join\n",
    "def readCorpus(datasetDirectoryName):\n",
    "    docSummaryDict = {}\n",
    "    docSentencesDict = {}\n",
    "    summaryline = False\n",
    "    # datasetDirectoryName = ['cnn', 'dailymail']\n",
    "    for dirName in datasetDirectoryName:\n",
    "        filepath = join(getcwd(), dirName,'stories')\n",
    "        allFiles = [f for f in listdir(filepath) if not (f.startswith('.')) and isfile(join(filepath, f))]\n",
    "        for file in allFiles:\n",
    "            filename = join(filepath, file)\n",
    "            if 'cnn' in filename:\n",
    "                fileKey = 'cnn_' + file\n",
    "            else:\n",
    "                fileKey = 'dailymail_' + file\n",
    "            for line in open(filename,'r'): \n",
    "                if line != '\\n':\n",
    "                    if '@highlight' in line:\n",
    "                        summaryline = True\n",
    "                        continue\n",
    "                    if not summaryline:\n",
    "                        if fileKey in docSentencesDict:\n",
    "                            docSentencesDict[fileKey].append(line.strip())\n",
    "                        else:\n",
    "                            docSentencesDict[fileKey] = [line.strip()]\n",
    "                    else:\n",
    "                        summaryline = False\n",
    "                        if fileKey in docSummaryDict:\n",
    "                            docSummaryDict[fileKey].append(line.strip())\n",
    "                        else:\n",
    "                            docSummaryDict[fileKey] = [line.strip()]\n",
    "    return docSentencesDict, docSummaryDict "
   ]
  },
  {
   "cell_type": "markdown",
   "metadata": {},
   "source": [
    "# Term Doc Frequency dictionary"
   ]
  },
  {
   "cell_type": "code",
   "execution_count": 132,
   "metadata": {
    "collapsed": true
   },
   "outputs": [],
   "source": [
    "#  funciton to get term-document frequency\n",
    "#  docSentencesDict should be stemmed words dictionary\n",
    "#  returns you count of words appear in how many documents for idf\n",
    "from collections import Counter\n",
    "from nltk import word_tokenize\n",
    "def getTermDocfrequency(docSentencesDict):\n",
    "    termDocFreqDict = Counter()\n",
    "#     each k is a unique file and v is list of sentences\n",
    "    for k in docSentencesDict:\n",
    "        v = docSentencesDict[k]\n",
    "        fileSet = None\n",
    "        for line in v:\n",
    "            lineSet = {word for word in word_tokenize(line)}\n",
    "#             print(lineSet)\n",
    "            if fileSet is None:\n",
    "                fileSet = lineSet\n",
    "            else:\n",
    "                fileSet = fileSet | lineSet\n",
    "        for word in fileSet:\n",
    "            termDocFreqDict[word] += 1\n",
    "    return termDocFreqDict        "
   ]
  },
  {
   "cell_type": "code",
   "execution_count": 111,
   "metadata": {
    "collapsed": true
   },
   "outputs": [],
   "source": [
    "#  funciton to get term-document frequency\n",
    "#  docSentencesDict should be stemmed words dictionary\n",
    "#  returns you count of words appear in how many documents for idf\n",
    "# from collections import Counter\n",
    "# from nltk import word_tokenize\n",
    "# def getTermDocfrequency(textArr):\n",
    "#     termDocFreqDict = Counter()\n",
    "# #     each sentence is considered as a unique document\n",
    "#     for line in textArr:\n",
    "# #     naming it as file set because each line is considered as an individual file\n",
    "#         fileSet = {word for word in word_tokenize(line)}\n",
    "#         for word in fileSet:\n",
    "#             termDocFreqDict[word] += 1\n",
    "#     return termDocFreqDict"
   ]
  },
  {
   "cell_type": "markdown",
   "metadata": {},
   "source": [
    "# remove stop words"
   ]
  },
  {
   "cell_type": "code",
   "execution_count": 133,
   "metadata": {
    "collapsed": true
   },
   "outputs": [],
   "source": [
    "# function to read stop words from a text file\n",
    "def readStopWords(filename):\n",
    "    text = []\n",
    "    if(filename.endswith('txt')):\n",
    "        file = open(filename, 'r')\n",
    "        for line in file:\n",
    "            text.append(line.strip())\n",
    "        return text\n",
    "    else:\n",
    "        return None;\n",
    "\n",
    "\n",
    "from nltk import word_tokenize\n",
    "def removeStopWords(docSentencesDict):\n",
    "    returnDocSentencesDict = {}\n",
    "#     returnText = ''\n",
    " #  list of stopWords ( removed following words from list -> eight, eleven, fifteen, first, five, forty, four, nine, \n",
    "#   one, six, sixty, twelve, twenty, two, ten, )\n",
    "# http://xpo6.com/download-stop-word-list/\n",
    "    stopWordsFile = 'stop-word-list.txt'\n",
    "    stopWords = readStopWords(stopWordsFile)\n",
    "    if stopWords is None:\n",
    "        raise Exception('Couldn\\'t parse the given file. Stop Words list is empty. Please provide a text file to parse.')\n",
    "#     print(stopWords)\n",
    "    for file in docSentencesDict:\n",
    "        modifiedTextArr = []\n",
    "        textArr = docSentencesDict[file]\n",
    "        for text in textArr:\n",
    "            modifiedText = ''\n",
    "            words = word_tokenize(text)\n",
    "            for word in words:\n",
    "                if word not in stopWords:\n",
    "                    modifiedText += word + ' '\n",
    "            modifiedTextArr.append(modifiedText)\n",
    "        returnDocSentencesDict[file] = modifiedTextArr\n",
    "    return returnDocSentencesDict     "
   ]
  },
  {
   "cell_type": "code",
   "execution_count": 2,
   "metadata": {},
   "outputs": [
    {
     "name": "stdout",
     "output_type": "stream",
     "text": [
      "This four times better previous solution \n"
     ]
    }
   ],
   "source": [
    "# print(removeStopWords('This is four times better than previous solution'))"
   ]
  },
  {
   "cell_type": "markdown",
   "metadata": {},
   "source": [
    "# Stemming"
   ]
  },
  {
   "cell_type": "code",
   "execution_count": 134,
   "metadata": {
    "collapsed": true
   },
   "outputs": [],
   "source": [
    "# nltk.download()\n",
    "# creating stemmed text and stemmedTextDict(for term frequency)\n",
    "from nltk.stem import PorterStemmer\n",
    "from nltk import word_tokenize\n",
    "def getStemmedText(docSentencesDict):\n",
    "    returnedDocSentencesDict = {}\n",
    "    stemmedWordFrequencyDict = {}\n",
    "    ps = PorterStemmer()\n",
    "    for file in docSentencesDict:\n",
    "        modifiedTextArr = []\n",
    "        textArr = docSentencesDict[file]\n",
    "        for text in textArr:\n",
    "            stemmedText = ''\n",
    "#         text = docSentencesDict[file]\n",
    "        \n",
    "            words = word_tokenize(text)\n",
    "            for word in words:\n",
    "                stemmedWord = ps.stem(word)\n",
    "                stemmedText += stemmedWord + ' '\n",
    "                if(stemmedWordFrequencyDict.get(stemmedWord, None) == None):\n",
    "                    stemmedWordFrequencyDict[stemmedWord] =1\n",
    "                else:\n",
    "                    stemmedWordFrequencyDict[stemmedWord] += 1 \n",
    "            modifiedTextArr.append(stemmedText)\n",
    "        returnedDocSentencesDict[file] = modifiedTextArr\n",
    "    return returnedDocSentencesDict, stemmedWordFrequencyDict"
   ]
  },
  {
   "cell_type": "code",
   "execution_count": 5,
   "metadata": {
    "collapsed": true
   },
   "outputs": [],
   "source": [
    "# print(getStemmedText('python pythonly pythoning pythoned jatin sankar. jatin Sankar python'))"
   ]
  },
  {
   "cell_type": "code",
   "execution_count": null,
   "metadata": {
    "collapsed": true
   },
   "outputs": [],
   "source": []
  },
  {
   "cell_type": "code",
   "execution_count": null,
   "metadata": {
    "collapsed": true
   },
   "outputs": [],
   "source": []
  },
  {
   "cell_type": "markdown",
   "metadata": {},
   "source": [
    "# Data set downloaded using following link\n",
    "# https://cs.nyu.edu/~kcho/DMQA/"
   ]
  },
  {
   "cell_type": "markdown",
   "metadata": {},
   "source": [
    "# Computing Lex Rank Scores"
   ]
  },
  {
   "cell_type": "code",
   "execution_count": null,
   "metadata": {
    "collapsed": true
   },
   "outputs": [],
   "source": []
  },
  {
   "cell_type": "code",
   "execution_count": 178,
   "metadata": {},
   "outputs": [],
   "source": [
    "from nltk import word_tokenize\n",
    "from collections import Counter\n",
    "from math import pow, log, sqrt\n",
    "from nltk import word_tokenize\n",
    "def idfModifiedCosine(sentence1,sentence2, totalNumberOfDocs, termDocfreqDict):\n",
    "#     print('sentence1 is ' + sentence1)\n",
    "#     print('sentence2 is ' + sentence2)\n",
    "    sent1TFDict = Counter()\n",
    "    sent2TFDict = Counter()\n",
    "    idfDict = {}\n",
    "    wordsInbothSentences = None\n",
    "    sentence1Arr = word_tokenize(sentence1)\n",
    "    sentence2Arr = word_tokenize(sentence2)\n",
    "    for word in sentence1Arr:\n",
    "        sent1TFDict[word] += 1\n",
    "        if wordsInbothSentences is None:\n",
    "            wordsInbothSentences = {word}\n",
    "        else:\n",
    "            wordsInbothSentences = wordsInbothSentences | {word}\n",
    "        if word not in idfDict:\n",
    "#             print('calculate idf for word : ' +  word + ' ' +  str(termDocfreqDict[word]))\n",
    "            idfDict[word] = log(totalNumberOfDocs / termDocfreqDict[word])\n",
    "    for word in sentence2Arr:\n",
    "        sent2TFDict[word] += 1\n",
    "        if wordsInbothSentences is None:\n",
    "            wordsInbothSentences = {word}\n",
    "        else:\n",
    "            wordsInbothSentences = wordsInbothSentences | {word}\n",
    "        if word not in idfDict:\n",
    "#             print('calculate idf for word : ' +  word + ' ' +  str(termDocfreqDict[word]))\n",
    "            idfDict[word] = log(totalNumberOfDocs / termDocfreqDict[word])\n",
    "    num  = 0\n",
    "    denSent1 = 0\n",
    "    denSent2 = 0\n",
    "    for word in wordsInbothSentences:\n",
    "        num += sent1TFDict.get(word,0) * sent2TFDict.get(word,0) * pow(idfDict[word],2)\n",
    "        denSent1 += pow(sent1TFDict.get(word,0) * idfDict[word],2)\n",
    "        denSent2 += pow(sent2TFDict.get(word,0) * idfDict[word],2)\n",
    "#         num += sent1TFDict.get(word,0) * sent2TFDict.get(word,0)\n",
    "#         denSent1 += pow(sent1TFDict.get(word,0),2)\n",
    "#         denSent2 += pow(sent2TFDict.get(word,0),2)              \n",
    "    return num / (sqrt(denSent1) * sqrt(denSent2))"
   ]
  },
  {
   "cell_type": "code",
   "execution_count": 160,
   "metadata": {
    "collapsed": true
   },
   "outputs": [],
   "source": [
    "#  implementing matrix Product\n",
    "import numpy as np\n",
    "def matrixProduct(matA, matB):\n",
    "    return np.matmul(matA, matB)"
   ]
  },
  {
   "cell_type": "code",
   "execution_count": 161,
   "metadata": {
    "collapsed": true
   },
   "outputs": [],
   "source": [
    "import numpy as np\n",
    "def matrixTranspose(mat):\n",
    "    return np.transpose(mat)"
   ]
  },
  {
   "cell_type": "code",
   "execution_count": 162,
   "metadata": {
    "collapsed": true
   },
   "outputs": [],
   "source": [
    "import numpy as np\n",
    "def matrixDifference(mat1,mat2):\n",
    "    return np.subtract(mat1,mat2)"
   ]
  },
  {
   "cell_type": "code",
   "execution_count": 163,
   "metadata": {
    "collapsed": true
   },
   "outputs": [],
   "source": [
    "from math import pow\n",
    "# http://www.personal.soton.ac.uk/jav/soton/HELM/workbooks/workbook_30/30_4_matrx_norms.pdf\n",
    "def calculateEucledeanNorm(mat):\n",
    "    val = 0\n",
    "    for row in mat:\n",
    "        for col in range(len(row)):\n",
    "            val += pow(row[col],2)\n",
    "    return pow(val,1/2)"
   ]
  },
  {
   "cell_type": "code",
   "execution_count": 164,
   "metadata": {
    "collapsed": true
   },
   "outputs": [],
   "source": [
    "#  implementing power method\n",
    "def powerMethod(cosineMatrix, N, tolerance):\n",
    "    cosineMatrixTranspose = matrixTranspose(cosineMatrix)\n",
    "    initializeP = [[(1/N) for x in range(N)] for y in range(N)]\n",
    "    t = 0\n",
    "    currentP = None\n",
    "    while True:\n",
    "        if currentP is None:\n",
    "            oldP = initializeP\n",
    "        else:\n",
    "            oldP = currentP\n",
    "        t += 1\n",
    "        currentP = matrixProduct(cosineMatrixTranspose,oldP)\n",
    "        differenceMatrix = matrixDifference(currentP, oldP)\n",
    "        difference = calculateEucledeanNorm(differenceMatrix)      \n",
    "        if difference < tolerance:\n",
    "            return currentP      "
   ]
  },
  {
   "cell_type": "code",
   "execution_count": null,
   "metadata": {
    "collapsed": true
   },
   "outputs": [],
   "source": []
  },
  {
   "cell_type": "code",
   "execution_count": null,
   "metadata": {
    "collapsed": true
   },
   "outputs": [],
   "source": []
  },
  {
   "cell_type": "code",
   "execution_count": 7,
   "metadata": {
    "collapsed": true
   },
   "outputs": [],
   "source": [
    "# # split Text into sentences\n",
    "# def SplitTextIntoSentences(text):\n",
    "#     updatedText = ''\n",
    "#     for i in range(1,len(text)):\n",
    "#         if text[i-1] == '.' and text[i] == ' ':\n",
    "#             updatedText += '\\n'\n",
    "#         else:\n",
    "#             updatedText += text[i]\n",
    "#     sentences = updatedText.split('\\n')\n",
    "#     return sentences"
   ]
  },
  {
   "cell_type": "code",
   "execution_count": 165,
   "metadata": {
    "collapsed": true
   },
   "outputs": [],
   "source": [
    "#  Lex Rank\n",
    "#  need to check from where do we get tolerance, threshold\n",
    "#  idf-modified-cosine\n",
    "#  We might get divide by zero error, need to think how to avoid that.\n",
    "\n",
    "def lexRank(sentences,threshold, tolerance, totalNumberOfDocs, termDocfreqDict):\n",
    "    n = len(sentences)\n",
    "    cosineMatrix = [[0 for x in range(n)] for y in range(n)]\n",
    "    degree = [1 for x in range(n)]\n",
    "    for i in range(0,n):\n",
    "        for j in range(0,n):\n",
    "            cosineMatrix[i][j] = idfModifiedCosine(sentences[i],sentences[j], totalNumberOfDocs, termDocfreqDict)\n",
    "            if cosineMatrix[i][j] > threshold:\n",
    "                cosineMatrix[i][j] = 1\n",
    "                degree[i] += 1\n",
    "            else:\n",
    "                cosineMatrix[i][j] = 0\n",
    "    for i in range(0,n):\n",
    "        for j in range(0,n):\n",
    "            cosineMatrix[i][j] = cosineMatrix[i][j]/degree[i]\n",
    "    L = powerMethod(cosineMatrix, n, tolerance)\n",
    "    return L, degree"
   ]
  },
  {
   "cell_type": "markdown",
   "metadata": {
    "collapsed": true
   },
   "source": [
    "# write results to disk"
   ]
  },
  {
   "cell_type": "code",
   "execution_count": 166,
   "metadata": {
    "collapsed": true
   },
   "outputs": [],
   "source": [
    "#  storing summarisation to disk\n",
    "from os import listdir,getcwd\n",
    "from os.path import isfile, join\n",
    "def writeResults(filename, summarySentences):\n",
    "    dirName = 'summarisation'\n",
    "    file = join(getcwd(), dirName, filename)\n",
    "    f = open(file,'w')\n",
    "    for line in summarySentences:\n",
    "        f.write(line + '\\n')\n",
    "    f.close()"
   ]
  },
  {
   "cell_type": "code",
   "execution_count": null,
   "metadata": {
    "collapsed": true
   },
   "outputs": [],
   "source": []
  },
  {
   "cell_type": "markdown",
   "metadata": {},
   "source": [
    "# Commands to run Lex Rank"
   ]
  },
  {
   "cell_type": "code",
   "execution_count": null,
   "metadata": {
    "collapsed": true
   },
   "outputs": [],
   "source": [
    "# docSentencesDict = readCorpus(['Test_cnn', 'Test_dailymail'])\n",
    "# #  preprocessing\n",
    "# removedStopWordsDocSentencesDict = removeStopWords(docSentencesDict)\n",
    "# # stemmedWordFrequencyDict is not need in our implementation\n",
    "# stemmedDocSentencesDict, stemmedWordFrequencyDict = getStemmedText(removedStopWordsDocSentencesDict)\n",
    "# termDocFrequencyDict = getTermDocfrequency(stemmedDocSentencesDict)\n",
    "# totalDocs = len(docSentencesDict)\n",
    "# # testFile will be array of stemmed sentences in a test file\n",
    "# # testFile = \n",
    "#  threshold is in range of [0.1 - 0.3]\n",
    "#  very high thresholds may lose almost all of the information in a similarity matrix\n",
    "# threshold = 0.1\n",
    "#  tolerance is also consider as damping factor, range [0.1 - 0.2], research paper has taken it as 0.85\n",
    "# tolerance = 0.1\n",
    "# L = lexRank(testFile,threshold, tolerance, totalDocs, termDocFrequencyDict)"
   ]
  },
  {
   "cell_type": "code",
   "execution_count": null,
   "metadata": {
    "collapsed": true
   },
   "outputs": [],
   "source": [
    "# Questions are\n",
    "# 1) threshold value\n",
    "# 2) how will I convert L returned by lex rank to readable summary"
   ]
  },
  {
   "cell_type": "markdown",
   "metadata": {
    "collapsed": true
   },
   "source": [
    "# Testing the code on first 5 files of cnn and dailymail"
   ]
  },
  {
   "cell_type": "code",
   "execution_count": 167,
   "metadata": {},
   "outputs": [
    {
     "data": {
      "text/plain": [
       "{'cnn_0a0a4c90d59df9e36ffec4ba306b4f20f3ba4acb.story': ['(CNN) -- Can a movie actually convince you to support torture? Can a movie really persuade you that \"fracking\" -- a process used to drill for natural gas -- is a danger to the environment? Can a movie truly cause you to view certain minority groups in a negative light?',\n",
       "  'Some scoff at the notion that movies do anything more than entertain. They are wrong. Sure, it\\'s unlikely that one movie alone will change your views on issues of magnitude. But a movie (or TV show) can begin your \"education\" or \"miseducation\" on a topic. And for those already agreeing with the film\\'s thesis, it can further entrench your views.',\n",
       "  'Anyone who doubts the potential influence that movies can have on public opinion need to look no further than two films that are causing an uproar even before they have opened nationwide. They present hot button issues that manage to fire up people from the left and right.',\n",
       "  'The first, \"Zero Dark Thirty,\" is about the pursuit and killing of Osama bin Laden, which features scenes of torture. The second, \"Promised Land,\" stars Matt Damon and explores how the use of fracking to drill for natural gas can pose health and environmental dangers.',\n",
       "  'Critics of \"Zero Dark Thirty\" fear that audiences will accept as true the film\\'s story line that torture was effective in eliciting information to locate bin Laden. They are rightfully concerned that the film will sway some to become more receptive or even supportive of the idea of torturing prisoners.',\n",
       "  'Peter Bergen: Did torture really net bin Laden?',\n",
       "  'Opposition to the film escalated last week as three senior U.S. senators -- John McCain, Carl Levin and Dianne Feinstein -- sent a letter to the film\\'s distributor, Sony Pictures, characterizing the film\\'s use of torture as \"grossly inaccurate and misleading.\" The senators bluntly informed Sony Pictures that it has \"an obligation to state that the role of torture in the hunt for Osama bin Laden is not based on the facts, but rather part of the film\\'s fictional narrative.\"',\n",
       "  'The hostility toward \"Promised Land\" shows us that it\\'s not just politicians who complain about movie messages. Big business -- namely, the gas industry -- is aggressively objecting to the allegation in \"Promised Land\" that fracking poses environmental and health risks.',\n",
       "  'How concerned is the gas industry?',\n",
       "  'It has set up a rapid response team to counter publicity for the film by using two Washington-based groups that lobby for gas and oil companies: the Independent Petroleum Association of America and Energy in Depth. These groups have scrutinized appearances by the films stars on talk shows, questioned who the financiers of the film are, published parts of the script and mocked the film on social media.',\n",
       "  'Energy in Depth went as far as to \"fact check\" a recent appearance by the film\\'s co-star and co-writer, John Krasinski, on \"Late Night With David Letterman.\" Within hours of Krasinski\\'s appearance, Energy in Depth posted a blog on its website pointing out what it perceived as factual errors made by Krasinski about fracking.',\n",
       "  'Regardless of whether \"Zero Dark Thirty\" and \"Promised Land\" intended to promote any message, people who watch them will be \"educated\" in some way on torture and fracking -- even if very subtly.',\n",
       "  \"This is the same reason that minority groups continue to object to being represented in a negative light in movies and TV. They understand that accurate representations matter because studies have shown that biases can form based on stereotypes or inaccurate representations. (Being of Italian and Arab descent, I'm acutely aware of this issue as my respective heritages have been represented by a parade of mobsters and terrorists.)\",\n",
       "  \"What's Hollywood's role in all of this? The same as it has always been -- to make money.\",\n",
       "  'In fact, there\\'s no doubt that the studios behind these movies are overjoyed at the controversy that has erupted and the resulting free press. Indeed, the response of Sony Pictures to the uproar over \"Zero Dark Thirty\" tells you about what they really hope we will all do: \"We encourage people to see the film before characterizing it.\"',\n",
       "  'So go ahead, enjoy these films and ones like them that are based on actual events or current hot issues. But while you are watching them, be aware you might be getting more than the price of ticket. You might also be getting a (mis)education.',\n",
       "  'The opinions expressed in this commentary are solely those of Dean Obeidallah.'],\n",
       " 'cnn_0a0aa464d262b903f44b0f8eaa67f13dd1946cfd.story': ['March 14 is my favorite day to be a nerd.',\n",
       "  \"Across the country, math geeks in museums, schools, private groups and elsewhere gather to celebrate the number pi, approximately 3.14. That's why March 14 -- 3-14 -- is Pi Day. What's more, Albert Einstein was born on this day.\",\n",
       "  'A quick refresher: Pi is defined as the distance around a perfect circle, or the circumference, divided by the distance across it, or the diameter. It is also involved in calculating the area of a circle, the volume of a sphere, and many other mathematical formulas you might need in the sciences.',\n",
       "  \"Throughout history, people have been captivated by this number because there is no way to calculate it exactly by a simple division on your calculator. What's more, its digits go on infinitely, without any pattern in the numbers. 3.1415926535897932 ... etc. Even that many digits are more than most people would need for everyday use, but some folks have been inspired to memorize thousands of digits of pi, or even use the digits to create poetry or music.\",\n",
       "  \"On Pi Day, one number 'reeks of mystery'\",\n",
       "  \"Math may be scary, but pi is not -- as evidenced by the widespread revelry on Pi Day. One might even say -- gasp! -- it's cool to like pi these days. Even the House of Representatives supported the designation of March 14 as National Pi Day in 2009.\",\n",
       "  'In countries where the day is written before the month, Friday is 14-3, which looks less like pi. \"And so Pi Day is an acquired taste,\" mathematician Jonathan Borwein, at the University of Newcastle in Australia, said in an e-mail.',\n",
       "  'Conveniently, \"pi\" sounds like \"pie,\" and pies are round. You could celebrate Pi Day in a casual way by grabbing a slice of pastry, or pizza. If you\\'re in enrolled in school, your math class or math department might be doing something special already.',\n",
       "  'But if you happen to live in a particularly pi-happy place, you might be able to take part in some larger-scale, pi-inspired activities.',\n",
       "  'Where Pi Day began',\n",
       "  'If you want to go where the day is said to be \"invented,\" look no further than San Francisco\\'s Exploratorium. Larry Shaw, who worked in the electronics group at the museum, began the tradition in 1988. Last year was Pi Day\\'s 25th anniversary there.',\n",
       "  'Pi Day began as a small gathering with mostly museum staff. Now it\\'s a public pi extravaganza featuring a \"Pi procession,\" whose attendees get a number -- 0 to 9 -- and line up in the order of pi\\'s digits: 3.14159265 ... you get the idea.',\n",
       "  'The parade ends at the \"pi shrine\" -- a pi symbol with digits spiraling around it embedded in the sidewalk, which was unveiled last year.',\n",
       "  'For those who can\\'t attend in person, the Exploratorium has a Second Life Pi Day event that includes \"irrational exhibits, fireworks, cheerleaders, music, and dancing.\" The museum also lists a bunch of educational activities to teach about the concept of pi.',\n",
       "  \"On Pi Day, is 'pi' under attack?\",\n",
       "  'Where Einstein lived',\n",
       "  'On the opposite coast, the leafy university town where Albert Einstein spent the last 22 years of his life is showing community-wide exuberance for pi.',\n",
       "  \"Princeton, New Jersey, kicks off Pi Day weekend on Thursday night with a reading by physicist Charles Adler, then heads into a full day of activities on Friday, including a walking tour of Einstein's neighborhood and a pizza pie-making contest.\",\n",
       "  \"The pie-eating contest takes place at McCaffrey's supermarket, while an Einstein look-alike competition will match mustaches and wild gray hair at the Princeton Public Library.\",\n",
       "  'Pi fans who have been spending the last year memorizing digits can show off and compete at the library, where the winner among 7- to 13-year-olds can take home a cool pi-hundred (That is, $314.15). The Historical Society of Princeton will have an Einstein birthday party. Tetsuya Miyamoto, inventor of the KENKEN puzzle, will speak at the library as well.',\n",
       "  'Here are 10,000 digits of pi for you to memorize',\n",
       "  'The \"brainiac town\" residents \"love this event because it\\'s a way for them to celebrate how quirky they are,\" said Mimi Omiecinski, owner of the Princeton Tour Company, who started Princeton Pi Day in 2009. \"A lot of them get super into it.\" Last year about 9,000 people participated, she said.',\n",
       "  'Along with her fascination with Albert Einstein, Omiecinski was inspired to launch a town-wide Pi Day after she heard that the Princeton University mathematics department celebrates March 14 with pie-eating and pi-reciting (As a Princeton student, I got second place for most digits in 2005 and 2006).',\n",
       "  'Even more pi',\n",
       "  'Chicago is getting into the pi business too. Lots of restaurants and bakeries are offering Pi Day specials. The Illinois Science Council and Fleet Feet Sports are hosting a 3.14-mile walk/run Friday night, with discounts for anyone named Albert, Alberta or Albertina. Philly.com highlights two options for satisfying your pie cravings in the City of Brotherly Love.',\n",
       "  'Bostonians can head to Massachusetts Institute of Technology at Pi Time (3:14 p.m.) for pi-themed activities such as \"Throw Pie at Your Best Friend on High-Speed Camera.\"',\n",
       "  \"The Museum of Science in Boston has educational Pi Day events, and the Seattle Children's Museum will celebrate too.\",\n",
       "  'Even the Salvador Dali Museum in St. Petersburg, Florida, will celebrate the day, as \"Dali loved the irrational numbers Pi and Phi, often using them and other mathematical principles in his art,\" according to the museum. If you live in the area, check out their schedule of math-inspired films and tours throughout the day.',\n",
       "  'There are plenty of online resources too, such as piday.org.',\n",
       "  'Outside of the physical classroom, Pi Day will be celebrated online through Google\\'s virtual classroom project. David Blatner, author of the comprehensive book \"The Joy of Pi,\" is hosting a Pi Day competition in which students from three classrooms will square off to see who can recite the most digits of pi from memory.',\n",
       "  'How did Pi Day become such a big thing?',\n",
       "  'Blatner says that Pi Day has become a hit for the same reason the new \"Cosmos\" TV show is getting so much attention.',\n",
       "  '\"People all around the world are hungry to make science and math fun and interesting,\" he said in an e-mail. \"We know math and science is important, we know that it\\'s fascinating, but we often don\\'t know how to make it fun and interesting. Pi Day gives us a great excuse to throw away our fear of math and say \\'Hey, it IS kind of neat!\\' \"',\n",
       "  'If you agree, just wait until 3/14/15 -- or as one popular Facebook group calls it, \"The Only Pi Day of Our Lives.\"',\n",
       "  \"That's because pi to four digits after the decimal is 3.1415, and we're unlikely to survive until 2115 to see that second instance of pi perfection.\",\n",
       "  \"So get ready next year to take a picture of your digital clock on 3/14/15 at 9:26:53 a.m. That'll be worth more than a thousand digits.\",\n",
       "  'Follow Elizabeth Landau on Twitter at @lizlandau',\n",
       "  'How do you celebrate Pi Day? Tell us in the comments.'],\n",
       " 'cnn_0a0adc84ccbf9414613e145a3795dccc4828ddd4.story': ['Beijing (CNN) -- Families of Chinese passengers on board missing Malaysia Airlines Flight 370 have engaged in a rare late-night act of civil disobedience in this tightly-controlled city.',\n",
       "  'After unsuccessfully demanding a meeting with the Malaysian ambassador at their hotel for more than eight hours, angry relatives pushed past police officers who tried to stop them from making a midnight march across the Chinese capital. Their destination: the Malaysian Embassy.',\n",
       "  '\"The ambassador kept saying he would come but he never showed,\" an elderly man told CNN as he and scores of others walked quietly through Beijing\\'s streets. As has been the practice of many other Chinese passengers\\' next of kin, the man asked not to publish his name.',\n",
       "  '\"They\\'re lying. They\\'re lying to us,\" the man repeated. \"And now we\\'re going to the embassy. If they won\\'t come to us, we\\'ll go to them.\"',\n",
       "  'The surreal late-night procession was followed closely by police squad cars.',\n",
       "  'Around midnight, more than one hundred relatives staged a pre-dawn sit-in outside the embassy gates.',\n",
       "  'Though vastly out-numbered by Chinese security forces, the family members continued their stubborn vigil throughout the morning. They remained camped out by the diplomatic mission more than 15 hours later.',\n",
       "  'Periodically, they chanted \"Fulfill your commitments! No more delays! No more lies!\" Throughout the sit-in, no Malaysian diplomat came out to meet with protesters.',\n",
       "  'The demonstrators finally dispersed peacefully before sunset on Friday, after camping out by the diplomatic mission for more than 17 hours.',\n",
       "  'The small gathering departed after delivering a letter of protest to the embassy demanding an explanation for how the prime minister of Malaysia has concluded that the plane ended its flight over the Indian Ocean.',\n",
       "  'Broken promises',\n",
       "  'For weeks, distraught next of kin have requested face-to-face meetings with Malaysian officials. They are demanding a briefing on details of the last moments before Flight 370 was believed to have disappeared over the Indian Ocean. In the absence of information from Malaysian authorities, many relatives continue to believe their missing loved ones are still alive.',\n",
       "  'On several occasions within the last two weeks, Malaysian officials in Beijing and Kuala Lumpur publicly pledged to meet the Chinese families within a matter of 24 hours, but then failed to show up for talks.',\n",
       "  '\"We just want them to stop breaking their promises again and again,\" said Steven Wang, a spokesman for the families, whose mother went missing when the Boeing 777 disappeared on March 8.',\n",
       "  'He spoke to CNN in a \"journalist\\'s area\" located out of sight of the Malaysian Embassy protest. Even at the early hour of 1 a.m. on Friday, Chinese police had cordoned off an area for media around the corner from the sit-in. During the day, security forces continued to prevent journalists from reaching the families.',\n",
       "  'Public protests are extremely rare in China. The Malaysia Airlines crisis, which has involved the highly emotional disappearance of 153 Chinese nationals who were on board the plane, has put Chinese authorities in an uncomfortable position.',\n",
       "  'The Chinese government has tolerated -- but stopped far short of endorsing -- the political mobilization of the flight\\'s next of kin. Families have organized committees, issued press releases, and printed t-shirts and hats with the slogan \"Pray for MH370.\" But they have also been largely prevented from organizing public displays outside the windowless hotel conference room that serves as the families\\' improvised headquarters.',\n",
       "  'On Friday a spokesperson for the Chinese foreign ministry, Qin Gang, called on the families protesting outside the embassy to \"express their appeals in a legal and rational way\" while pledging to give them further assistance. He urged the Malaysian authorities to \"actively\" pursue the investigation.',\n",
       "  'EXCLUSIVE: Malaysia to release MH370 report, Prime Minister tells CNN'],\n",
       " 'cnn_0a0b44620d0dec6fdfc1aa139ff51bcb36c56c51.story': ['United Nations (CNN) -- The U.N. Security Council approved a resolution Monday to send 4,200 peacekeepers to Abyei, Sudan, as part of a recent agreement between Sudan and Southern Sudan.',\n",
       "  'The resolution will establish, for six months, the United Nations Interim Security Force for Abyei (UNISFA), comprising \"a maximum of 4,200 military personnel, 50 police personnel, and appropriate civilian support,\" the resolution states.',\n",
       "  'It passed the council unanimously, 15-0.',\n",
       "  'In a statement released by the State Department, Secretary Hiliary Clinton commended the swift passage of the resolution.',\n",
       "  '\"Abyei has been a source of regional tension for many years,\" the statement said. \"We urge the parties to reach an immediate cease-fire and to provide aid workers with the unfettered access required to deliver humanitarian assistance to innocent civilians affected by the conflict.\"',\n",
       "  \"A week ago, the Sudanese government and the Sudan People's Liberation Movement signed an agreement to allow peacekeepers in Abyei, aimed at ending strife that has ravaged much of the country.  The two sides agreed in principle on the need for a third party to monitor the ill-defined border between north and south before the scheduled July 9 independence for the south.\",\n",
       "  'The U.N. peacekeepers will \"monitor and verify the redeployment of any Sudan Armed Forces, Sudan People\\'s Liberation Army or its successor\" from the Abyei area, among other tasks, the Security Council resolution states.'],\n",
       " 'cnn_0a0b59738a88e97ef66322a8c866d22ebf079289.story': ['A bipartisan group of women senators waded into the ongoing drama over the NFL, Ray Rice and domestic violence.',\n",
       "  'They sent a letter to NFL Commissioner Roger Goodell calling on the football league to institute a \"real zero-tolerance policy\" in such cases.',\n",
       "  'The 16 signatories wrote that they were \"shocked and disgusted\" by the in-elevator video that surfaced of Ray Rice punching his then-fianceé in an elevator, and they pointed to the allegation that the NFL had possession of the video, which became public Monday, when it handed down its original lenient two-game suspension.',\n",
       "  '\"The NFL\\'s current policy sends a terrible message to players, fans and all Americans that even after committing a horrific act of violence, you can quickly be back on the field,\" the senators wrote.',\n",
       "  'The NFL recently changed its domestic violence punishment to a minimum suspension of six games for a first offense and a lifetime time ban for a second offense.',\n",
       "  '\"If you violently assault a woman, you shouldn\\'t get a second chance to play football in the NFL,\" the senators wrote.',\n",
       "  'Sen. Richard Blumenthal, D-Connecticut, recently told CNN that he would not \"rule out\" congressional action to force the NFL\\'s hand on domestic abuse.',\n",
       "  'Key events in the Ray Rice episode',\n",
       "  'Ex-FBI director to investigate Ray Rice case'],\n",
       " 'dailymail_0a00a9aebcb754c51534867cf1db2335dcb76884.story': [\"Manchester United's Spaniards may have struggled to gel on the pitch, but they have been building up a close relationship off it.\",\n",
       "  'Juan Mata, Ander Herrera and David de Gea have become good friends and enjoyed lunch together in Hale Village, Cheshire on Tuesday afternoon.',\n",
       "  \"The Spanish trio were all named in Louis van Gaal's starting line-up for the opening day fixture against Swansea, although they were unable to prevent a disappointing 2-1 defeat bySwansea.\",\n",
       "  'VIDEO Scroll down to watch Mata challenge compatriot De Gea to Corner Kick Challenge',\n",
       "  'Meet and greet: Juan Mata (left) has been helping fellow Spaniard Ander Herrera (right) settle in',\n",
       "  'Join the club: Manchester United keeper David de Gea and Herrera pictured together on Tuesday',\n",
       "  'Three Amigos: The Spaniards stroll down the high street as they enjoy an afternoon in Hale Village',\n",
       "  \"Van Gaal has brought another Spanish speaker to Old Trafford, with Argentina defender Marcos Rojo describing it as a 'dream' to play for the Old Trafford club.\",\n",
       "  'The Sporting Lisbon player has emerged has been a key summer target for Van Gaal and United have paid £16million for the defender and sent Portuguese winger Nani back to his former club on a one-year loan deal.',\n",
       "  \"In an interview with the radio station Continental, quoted in several national newspapers, Rojo said: 'It's a dream to play at Manchester United and I am very proud of having the chance of working with [Louis] van Gaal.\",\n",
       "  \"'I spoke with Juan Sebastian Veron about Manchester United when we were at Estudiantes. I have always liked English football, and I should adapt to this new playing style easily.'\",\n",
       "  'Double act: Mata and Herrera are hoping to form a close-knit midfield partnership at Old Trafford',\n",
       "  'Slow start: Mata and his United team-mates will be hoping for  improved performances after defeat by Swansea',\n",
       "  'Dream move: Marcos Rojo (left) has signed for United from Sporting Lisbon for £16m',\n",
       "  'VIDEO United reach deal for Rojo'],\n",
       " 'dailymail_0a0a007398ab02d4bd3c1ef9e034f567afa76b2c.story': ['More than ten million motorists were ‘betrayed and misled’ into buying diesel cars, the president of the AA has said.',\n",
       "  'Drivers who were encouraged for more than a decade to buy the cars for their fuel efficiency and environmental benefits may now be hit by new levies.',\n",
       "  'Britain is being sued by the European Commission for breaching air pollution limits and diesel drivers face financial penalties.',\n",
       "  'Scroll down for video',\n",
       "  'Penalties: Plans have been announced to charge diesel drivers extra in London - which could spread further',\n",
       "  'London Mayor Boris Johnson this week announced plans to charge an extra £10 for diesel cars to drive in the capital – a measure that could be copied by up to 18 other cities.',\n",
       "  'But motoring groups have warned that charges would hit drivers already struggling to cope with high prices at the pumps, and could lower the resale value of diesel vehicles.',\n",
       "  \"'Many will feel betrayed': AA President Edmund King\",\n",
       "  'AA president Edmund King told the Daily Mail: ‘Many drivers will feel deeply betrayed and misled after being encouraged over many years to go for the dash for diesel. Now instead they are being told it’s time for the push to petrol.',\n",
       "  '‘Back in the 1990s there was a near hysteria about the dangers of carbon dioxide and yet nobody bothered to look at the bigger picture. Britain’s drivers thought they were doing the right thing and were told as much by politicians and ministers.',\n",
       "  '‘But now all of a sudden those same drivers are being told that it has serious health implications. Motorists are being made to feel guilty for something that they were actually encouraged to do.’',\n",
       "  'The shift towards diesel came in 2001 when then Chancellor Gordon Brown overhauled vehicle excise duty to charge more for cars emitting a high level of carbon dioxide.',\n",
       "  ''],\n",
       " 'dailymail_0a0a09d3e5a0f04d792a7d950af976ed7f1a2de7.story': ['Former Radio 1 DJ Tim Westwood was condemned by students yesterday for his ‘vulgar and sexist’ stage show at a freshers party.',\n",
       "  'The 56-year-old compere made comments to his teen audience about their genitalia - singling out specific revellers for lewd comments and unwanted advances.',\n",
       "  'He was the guest DJ at Leicester University’s We Love R&B gig at the O2 Academy in Leicester on Saturday.',\n",
       "  'At one point he was heard shouting over the microphone: ‘Girl in the front row with the black dress on, I will be f****** you later.’',\n",
       "  'Controversial: Former Radio 1 DJ caused offence during a gig for the University of Leicester students at the O2 Academy (stock image)',\n",
       "  'Westwood, who spent 20 years with Radio 1, told another girl: ‘Security have told me you need to wear a sports bra.’',\n",
       "  'And Westwood, whose father is a former Anglican Bishop, later published an Instagram video of a young couple raunchily dancing with the caption ‘Smash that homie’.',\n",
       "  'His act left some of his audience unimpressed, and many said he had gone too far.',\n",
       "  'Fresher Laurie Peters said: ‘Through the whole night he was being very vulgar towards the women in the audience.',\n",
       "  '‘It was uncomfortable and inappropriate, in my opinion, to ask which 18-year-olds in the audience wanted to display their private areas - and to tell someone that he would be \"f******\" her later on in the night\\'.',\n",
       "  \"Freshers' party: The Percy Gee Building of Leicester University, home to the Student Union\",\n",
       "  \"Venue: The O2 Academy in Leicester, where Westwood was a guest DJ at the university's We Love R&B party on Saturday\",\n",
       "  'Kitty Rodwell said: ‘It was just one of those \"wow too far for someone of your age\" disgust kind of things, where everyone looked at each other and said \"I can’t believe those words just left his mouth\".’',\n",
       "  \"Ross Copping said that he'd heard him make 'rather vulgar' remarks about women's genitalia.\",\n",
       "  '‘The impression I gained from the',\n",
       "  'girls I was clubbing with was that he was plain derogatory and, although',\n",
       "  'a commendable DJ, had no place in our O2 Aademy if he wished to conduct',\n",
       "  'himself in such a manner.’',\n",
       "  'Fourth year Rarione Maniece said:',\n",
       "  '‘Throughout his set he said some very inappropriate things... given how',\n",
       "  'old he was and how young the majority of the crowd was.',\n",
       "  \"Shocked: One of the students said many were looking at each other in disbelief at Westwood's comments\",\n",
       "  '‘I am pretty sure most of the kids there were young enough to be his children.’',\n",
       "  'A spokesman for Westwood denied the sexual language was harassment.',\n",
       "  'They claimed the obscenities were all innocent quotes of lyrics from songs such as Pon Di Cocky by Aidonia, Stop Sign by Koshens and R. Kelly’s Bump N’ Grind.',\n",
       "  'They said: ‘This was non-offensive banter with the crowd. At no point was offence meant, and none was taken by the people in the front row.’',\n",
       "  \"The spokesperson added: 'Tim was DJ-ing from midnight to 4am for a University crowd aged over 18.\",\n",
       "  \"'The music he plays is hip-hop and reggae which includes, at times, explicit lyrics and Tim introduces some tracks by quoting their lyrics to the crowd. Tim apologises for any offence that may have been caused.'\",\n",
       "  \"A source close to Tim Westwood said: 'Westwood has been gigging for years playing hip-hop and reggae so people going to his gigs know what music to expect and quoting lyrics is all part of the show. He is mortified that people would think he was being offensive as it is all part of the late night act.'\",\n",
       "  'Leicester’s student union this year announced a new zero tolerance policy on sexual harassment.',\n",
       "  'Inspiration: Sacha Baron Cohen said he partly based Ali G on Tim Westwood',\n",
       "  'It bans ‘unwanted sexual comments, including comments about your body or private life’ and ‘unwelcome sexual invitations and innuendos’.',\n",
       "  'Westwood has come in for criticism before, with his Radio 1 show accused of encouraging knife and gun crime by David Cameron, when he was the leader of the opposition.',\n",
       "  'Comedian Sacha Baron Cohen said that his rap-loving character Ali G was partly inspired by Westwood.'],\n",
       " 'dailymail_0a0a1a0e94aac65f2b50815050dfaccf521dda35.story': ['There is no link between mobile phones and any health problems, a decade-long report has concluded.',\n",
       "  'The study also found no evidence that exposure to base station emissions during pregnancy increases the risk of childhood leukaemia.',\n",
       "  'The Mobile Telecommunications and Health',\n",
       "  'Research programme was the UK’s largest research programme to look at',\n",
       "  'the possible health risks associated with mobile phone technology.',\n",
       "  'There is no link between mobile phone use and cancer, new research suggests',\n",
       "  'Professor David Coggon, Chairman of MTHR, said: ‘When the MTHR programme was first set up, there were many scientific uncertainties about possible health risks from mobile phones and related technology.',\n",
       "  '‘This independent programme is now complete, and despite exhaustive research, we have found no evidence of risks to health from the radio waves produced by mobile phones or their base stations.',\n",
       "  '‘Thanks to the research conducted within the programme, we can now be much more confident about the safety of modern telecommunications systems.’',\n",
       "  'The £13.6 million, 11 year programme has been jointly funded by the UK government and the telecommunications industry.',\n",
       "  \"Its findings support 2012 research which showed mobile and Wi-Fi technology doesn't cause cancer and causes no damage to health.\",\n",
       "  'There is also no link between exposure to power lines during pregnancy and childhood leukaemia',\n",
       "  'After assessing health hazards from low-level electromagnetic fields generated by radio transmitters, researchers at the Norwegian Expert Committee found there is no scientific evidence that exposure\\xa0 poses a health risk.',\n",
       "  'These electromagnetic fields are found around mobile phones, wireless phones and networks, mobile phone base stations, broadcasting transmitters and other communications equipment.',\n",
       "  \"The latest research also supports a 2011 study from Imperial College London which found that living close to a mobile phone mast does not increase a child's chance of developing a brain tumour or a tumour of the central nervous system.\",\n",
       "  'In 2011 the WHO suggested that people try to text rather than making phone calls to reduce their chance of developing a brain tumour from phone use',\n",
       "  \"Study author Professor Paul Elliott of Imperial College London, said: 'People are worried that living near a mobile phone mast might affect their children's health.\",\n",
       "  \"'We looked at this question with respect to risk of cancers in young children.\",\n",
       "  \"'We found no pattern to suggest that the children of mums living near a base station during pregnancy had a greater risk of developing cancer than those who lived elsewhere.'\",\n",
       "  'Research released just last week also revealed that children who live near overhead power lines do not have an increased risk of leukaemia.',\n",
       "  'The University of Oxford researchers studied 16,500 children with the cancer in the UK and found living near power lines did not increase risk of the disease.',\n",
       "  'Despite all of this evidence, some people may remain unconvinced.',\n",
       "  'In 2011 the World Health Organisation warned mobile phone users to limit their use of the devices as they could cause cancer.',\n",
       "  'The WHO suggested people use hands-free kits and that they text people instead of calling them to reduce their exposure to the phone.',\n",
       "  \"The comments were made after earlier research which suggested that just half an hour's mobile phone use a day could increase the risk of a brain tumour by 40 per cent.\"],\n",
       " 'dailymail_0a0a733db965c3fdf9bc2895104a1ef884a3d593.story': ['By',\n",
       "  'Ryan Gorman',\n",
       "  'PUBLISHED:',\n",
       "  '16:25 EST, 8 September 2013',\n",
       "  '|',\n",
       "  'UPDATED:',\n",
       "  '04:49 EST, 9 September 2013',\n",
       "  'A fan who caused outrage by appearing to taunt an alleged sexual assault victim on live television Saturday has explained his actions.',\n",
       "  'A sign held up by a University of Michigan student behind the hosts of ESPN’s College Gameday pregame show that said ‘Hi Lizzy Seeberg’ sparked outrage and appeared to taunt a girl who accused a University of Notre Dame football player of sexual assaulting her Aug 31, 2010 only to have the allegations appear to have been ignored every step of the way.',\n",
       "  'Ms Seeberg, 19, was a freshman at St Mary’s College, a small women’s only Catholic college literally across the street from the mighty Notre Dame.',\n",
       "  \"I did it: The person who held up the 'Hi Lizzy Seeberg' sign wrote a letter to Deadspin detailing his reasons behind the offensive gesture\",\n",
       "  'Unable to live with the aftermath of the alleged sexual assault and Notre Dame’s refusal to even acknowledge her repeated attempts to engage the school in any manner, Ms Seeberg was found dead nine days later – the devout Catholic had overdosed on antidepressants prescribed to treat her anxiety and depression.',\n",
       "  'The name of the player was never made public and the prestigious Catholic University appeared to have swept the whole thing under the rug, until addressing it earlier this year.',\n",
       "  'Having seemingly dissipated into the ether of time, Lizzy Seeberg’s name, and alleged plight, weren’t on the minds of many people Saturday morning until a sign saying ‘Hi Lizzy Seeberg’ appeared behind College Gameday co-host Desmond Howard while discussing the Notre Dame-Michigan game being played later that day on UM’s campus.',\n",
       "  'Mr Howard won the 1991 Heisman Trophy as college football’s greatest player for that season while at the University of Michigan. He did not react on-air to the sign, nor did anyone from ESPN.',\n",
       "  'She loved country music: Pictured here at a Keith Urban concert, Lizzy Seeberg was buried in this hat after her suicide, according to reports',\n",
       "  'Reaction online to the sign was fast and furious, no one appeared to appreciate the apparent jab at a young girl who killed herself after allegedly being sexually assaulted.',\n",
       "  '‘just \"Hi Lizzy Seeberg.\" So disrespectful. How does espn let that get on TV.’ (sic) tweeted @SutterHomeWhine.',\n",
       "  '‘Why the HELL would someone come to @CollegeGameDay with a \"Hi Lizzy Seeburg\" sign??!? #Tasteless #NoRespect #GrowUp,’ (sic) tweeted @skrayyy.',\n",
       "  \"The knee-jerk reaction ‘You stay classy, Michigan,' was also tweeted.\",\n",
       "  'Realizing his ‘statement’ was taken in a way he hadn’t intended, the student who held up the sign emailed Deadspin with an explanation.',\n",
       "  'Calling the entire ordeal ‘unacceptable,’ the letter’s author writes that it’s ‘not just unacceptable in the eyes of college football fans, or whatever, but unacceptable in the eyes of society. Notre Dame is better than this. We, as a people, are better than this.’',\n",
       "  \"Referencing the open secret that is not ‘ just a systemic culture of sexual assault that puts Notre Dame in a bad light. It's also the culture of dismissal and denial that pervades this university.’\",\n",
       "  \"‘Notre Dame, since day one, has spent a lot of time covering this up. From the non-statements of a priest, to the anger of President Jenkins, Notre Dame hasn't officially said anything,’ he further wrote.\",\n",
       "  'The letter writer, now hitting his stride, notes the texts that Ms Seeburg received from a friend after telling of the alleged assault.',\n",
       "  \"A devout Catholic: Ms Seeberg was saving herself for marriage and said the football player's alleged demands for a lap dance left her uncomfortable and that she 'didn't know what to do'\",\n",
       "  \"‘Don't do anything you would regret,’ and ’Messing with notre dame football is a bad idea.’ (sic)\",\n",
       "  \"‘In short, [the sign] was done to show that she isn't forgotten, and that people do know and care about her story. Even if her school refuses to acknowledge it, there are some people out there who do,’ he wrote in the letter.\",\n",
       "  'With this being the last time Notre Dame will likely ever play at the University of Michigan’s ‘Big House,’ the student decided Saturday was the time to make his point.',\n",
       "  '‘We, at Michigan, will never have a chance to say anything to this disgraceful farce of a university again, after today. So, I did. Because that is the right thing to do,’ he wrote.',\n",
       "  \"‘Everyone is important, Notre Dame. Everyone has value, Notre Dame. You don't treat a victim this way, or her family this way, Notre Dame. And if you don't, you will be called out on it,’ he later added.\",\n",
       "  'The student then urges people to donate to a mission set up by Ms Seeberg’s family in her honor, as a way to remember the endless charity work she did to help Chicago’s poor and less fortunate, or to her school’s legacy fund in her name – and says he donated $25, ‘the cost of a Michigan/Notre Dame gameday t-shirt.’',\n",
       "  'Ms Seeberg’s story took months to be made public after she accused a Notre Dame football player of the sexual assault. The allegations were detailed in a police report obtained by National Catholic Reporter.',\n",
       "  'The aggressor: Notre Dame officials tried to paint her as the aggressor, saying her actions were those of a woman scorned',\n",
       "  \"‘He started sucking my neck and I started crying harder,’ Ms Seeberg wrote in the report, according to NCR. ‘He pulled down my tank top by the straps. He slipped them down my shoulders and proceeded to suck and lick my right breast while holding me down on his lap by the arms,' she continued.\",\n",
       "  \"'I felt his hands start to move down towards my shorts as if he was trying to unbutton them or pull them off. I was still crying at this point and felt so scared that I couldn't move,’ the report further said.\",\n",
       "  'The prosecutor declined to bring charges in the case after Ms Seeberg killed herself, which, NCR points out, is fairly common in the instance of an accuser taking their own life if they are the only witness to the alleged crime.',\n",
       "  'Ms Seeberg, according to the NCR report, was ‘both politically and personally conservative, a brand new member of the College Republicans who led her parish youth group and spoke openly about saving herself for marriage.’',\n",
       "  'Notre Dame officials moved quickly to portray her as a woman scorned, an ‘aggressive young woman who lied to get back at him for sexually rejecting her the first moment they were ever alone together,’ NCR reported.',\n",
       "  'The alleged attacker had a history of misbehaviour and a reputation as a hot head, he was even suspended from high school for misbehaviour, said NCR.',\n",
       "  \"Several inconsistencies in the stories told by those involved muddled the truth, or maybe there were separate truths – each based on perception. Whatever the case, the prosecutor never pressed charges, the player was never named and moved on with his life - Lizzy Seeberg ended her's.\",\n",
       "  \"No punishment: The still unnamed player involved did not miss a single game, and even played in January's National Championship for Notre Dame's Fighting Irish football team (in blue and gold)\",\n",
       "  'Where Ms Seeberg wrote that she felt ‘uncomfortable’ as she was pulled closer to her attacker while dancing in his room with others present and forced to do a lap dance, the others told investigators that ‘she was being rather forward and dancing with the young man; she was dancing for him.’',\n",
       "  \"‘He told me to give him a lap dance and I didn't know what to do,’ Ms Seeburg wrote in the report.\",\n",
       "  'Notre Dame officials refused to comment on the allegations when confronted by NCR reporter Melinda Henneberger.',\n",
       "  \"The same day the Chicago Tribune made Ms Seeberg’s allegations and subsequent suicide public – almost three months after the fact – Notre Dame football coach joked during a media conference call ‘that he didn't know the Tribune could afford all the reporters who were peppering him with questions about the case,’ according to NCR. Coach Kelly did not even suspend the player in question while the accusations were looked into, he played in every game, and was part of every single practice.\",\n",
       "  'The school addressed the allegations in January 2013, admitting to Huffington Post that it ‘could have acted a bit more quickly,’ but instead of apologizing for failing to even acknowledge the allegations for more than two years, the school spokesperson took the opportunity to point out that Ms Seeberg was not raped, ‘in fact, it was an allegation of touching above the waist.’',\n",
       "  \"Not acceptable: The letter writer wrote that the many accusations of sexual abuse on campus are unacceptable and that someone had 'to stand up for what is right'\",\n",
       "  'Ms Seeberg’s case isn’t the first one of females accusing Notre Dame football players of sexual assault, rape or other improprieties.',\n",
       "  'One girl accused a member of the team of raping her in February 2011, the girl who drove her to the hospital after the attack claims she too was raped by a football player, NCR reported.',\n",
       "  'That girl was also urged to keep quiet in text messages sent by other players, her parents told NCR.',\n",
       "  'When told of the allegations, school administrators told the shocked parents they’d get the players to ‘knock it off,’ according to NCR.',\n",
       "  'Those are only a few of the numerous alleged attacks by Notre Dame football players, all of which can be easily found online – they are widely reported.',\n",
       "  'This is why the sign holder attempted to bring attention to what he feels is a grave injustice.',\n",
       "  '‘Notre Dame is, among other things, chicken for not having the spine to even say anything to the family of a girl while they have her blood on their hands,’ the sign holder wrote in his letter to Deadspin.',\n",
       "  'Notre Dame officials were not able to be reached by MailOnline for comment.']}"
      ]
     },
     "execution_count": 167,
     "metadata": {},
     "output_type": "execute_result"
    }
   ],
   "source": [
    "testDocSentencesDict, testDocSummaryDict = readCorpus(['Test_cnn', 'Test_dailymail'])\n",
    "testDocSentencesDict"
   ]
  },
  {
   "cell_type": "code",
   "execution_count": 145,
   "metadata": {},
   "outputs": [
    {
     "data": {
      "text/plain": [
       "{'cnn_0a0a4c90d59df9e36ffec4ba306b4f20f3ba4acb.story': ['Dean Obeidallah: A movie or TV show can educate or (mis)educate you',\n",
       "  'Obeidallah: Two new films about hot issues are firing up both the left and right',\n",
       "  'Senators slammed \"Zero Dark Thirty,\" and energy industry attacked \"Promised Land\"',\n",
       "  'Obeidallah: What does Hollywood want? To make money, of course'],\n",
       " 'cnn_0a0aa464d262b903f44b0f8eaa67f13dd1946cfd.story': ['Math geeks and others celebrate Pi Day every March 14',\n",
       "  'Pi, or roughly 3.14, is the ratio of circumference to diameter of a circle',\n",
       "  'The Pi Day holiday idea started at the Exploratorium museum in San Francisco',\n",
       "  'Albert Einstein was also born on March 14'],\n",
       " 'cnn_0a0adc84ccbf9414613e145a3795dccc4828ddd4.story': ['MH370 families hold sit-in outside the Malaysian Embassy in Beijing',\n",
       "  'Relatives marched from their hotel after request to meet Malaysian ambassador failed',\n",
       "  'More than once in recent weeks Malaysian authorities have not shown up for talks with relatives',\n",
       "  'NEW: China appeals to protesters to express concerns in \"legal and rational way\"'],\n",
       " 'cnn_0a0b44620d0dec6fdfc1aa139ff51bcb36c56c51.story': ['New: Clinton commends the swift passage of the U.N. resolution',\n",
       "  'The resolutions establishes a six-month security force at Abyei, Sudan',\n",
       "  'The two sides signed an agreement last week allowing peacekeepers',\n",
       "  'South Sudan is to gain independence July 9'],\n",
       " 'cnn_0a0b59738a88e97ef66322a8c866d22ebf079289.story': ['16 female senators send letter to NFL commissioner',\n",
       "  'They demand the NFL not give domestic abusers a second chance'],\n",
       " 'dailymail_0a00a9aebcb754c51534867cf1db2335dcb76884.story': [\"Manchester United's Spanish trio enjoyed lunch in Hale Village\",\n",
       "  'Mata, Herrera and De Gea pictured together on Tuesday afternoon',\n",
       "  'All three players started in the opening day fixture with Swansea'],\n",
       " 'dailymail_0a0a007398ab02d4bd3c1ef9e034f567afa76b2c.story': ['AA president claims millions switched because of advice from politicians',\n",
       "  'New diesel drivers are facing extra charges because of pollution rules',\n",
       "  \"Motorists 'will feel betrayed' after being told diesel was preferable\"],\n",
       " 'dailymail_0a0a09d3e5a0f04d792a7d950af976ed7f1a2de7.story': ['Westwood made controversial remarks at a University of Leicester event',\n",
       "  \"Leicester's students' union bans 'unwanted sexual comments'\",\n",
       "  'He was once accused of encouraging knife crime by David Cameron',\n",
       "  \"The DJ's spokesman claimed he was merely quoting lyrics from songs\"],\n",
       " 'dailymail_0a0a1a0e94aac65f2b50815050dfaccf521dda35.story': [\"There is 'no evidence' to suggest that exposure to base station emissions during pregnancy increases the risk of childhood leukaemia\",\n",
       "  'There is also no evidence that shows they cause any other health problems',\n",
       "  '£13.6 million, 11 year programme has been jointly funded by the UK government and the telecommunications industry'],\n",
       " 'dailymail_0a0a733db965c3fdf9bc2895104a1ef884a3d593.story': ['Despite widespread outrage, he claims the sign was meant to bring attention to her case, and that of others whose accusations of sexual assault at the University of Notre Dame have been ignored or covered up',\n",
       "  'Lizzy Seeberg, 19, was a freshman at a small Catholic college across the street from Notre Dame',\n",
       "  'Ms Seeberg had a history of anxiety and depression, and overdosed on her prescribed medication to kill herself',\n",
       "  'Notre Dame administration refused for over two years to even acknowledge the accusations, outside of A JOKE made by football coach Brian Kelly',\n",
       "  'The football player accused of the assault was never suspended, never missed a game and was allowed to attend all practices',\n",
       "  \"The trip was Notre Dame's last to Michigan, the student felt the need to 'stand up for what's right'\"]}"
      ]
     },
     "execution_count": 145,
     "metadata": {},
     "output_type": "execute_result"
    }
   ],
   "source": [
    "testDocSummaryDict"
   ]
  },
  {
   "cell_type": "code",
   "execution_count": 168,
   "metadata": {
    "collapsed": true
   },
   "outputs": [],
   "source": [
    "testRemovedStopWordsDocSentencesDict = removeStopWords(testDocSentencesDict)\n",
    "# testRemovedStopWordsDocSentencesDict"
   ]
  },
  {
   "cell_type": "code",
   "execution_count": 169,
   "metadata": {
    "collapsed": true
   },
   "outputs": [],
   "source": [
    "testStemmedDocSentencesDict, testStemmedWordFrequencyDict = getStemmedText(testRemovedStopWordsDocSentencesDict)\n",
    "# testStemmedDocSentencesDict"
   ]
  },
  {
   "cell_type": "code",
   "execution_count": 170,
   "metadata": {},
   "outputs": [],
   "source": [
    "#  our whole corpus is just 1 document that we need to sumamrise\n",
    "#  total number of docs will be number of sentences\n",
    "\n",
    "# allSentences = []\n",
    "# for file in list(testStemmedDocSentencesDict.keys()):\n",
    "#     allSentences.extend(testStemmedDocSentencesDict[file])\n",
    "# testTotalDocs = len(allSentences)\n",
    "# testTermDocFrequencyDict = getTermDocfrequency(allSentences)\n",
    "\n",
    "testTermDocFrequencyDict = getTermDocfrequency(testStemmedDocSentencesDict)\n",
    "# for i in testTermDocFrequencyDict:\n",
    "#     if testTermDocFrequencyDict[i] == 0:\n",
    "#         print(i) "
   ]
  },
  {
   "cell_type": "code",
   "execution_count": 114,
   "metadata": {},
   "outputs": [
    {
     "data": {
      "text/plain": [
       "56"
      ]
     },
     "execution_count": 114,
     "metadata": {},
     "output_type": "execute_result"
    }
   ],
   "source": [
    "# testTotalDocs"
   ]
  },
  {
   "cell_type": "code",
   "execution_count": 171,
   "metadata": {},
   "outputs": [
    {
     "data": {
      "text/plain": [
       "10"
      ]
     },
     "execution_count": 171,
     "metadata": {},
     "output_type": "execute_result"
    }
   ],
   "source": [
    "testTotalDocs = len(testDocSentencesDict)\n",
    "testTotalDocs"
   ]
  },
  {
   "cell_type": "code",
   "execution_count": 172,
   "metadata": {
    "collapsed": true
   },
   "outputs": [],
   "source": [
    "testFile = testStemmedDocSentencesDict['dailymail_0a0a733db965c3fdf9bc2895104a1ef884a3d593.story']\n",
    "# testFile"
   ]
  },
  {
   "cell_type": "code",
   "execution_count": 173,
   "metadata": {},
   "outputs": [
    {
     "name": "stdout",
     "output_type": "stream",
     "text": [
      "[2, 2, 9, 30, 2, 9, 30, 20, 48, 48, 21, 44, 45, 48, 45, 40, 41, 44, 33, 47, 42, 49, 42, 47, 49, 22, 43, 49, 43, 49, 49, 45, 49, 38, 48, 44, 47, 46, 47, 45, 46, 39, 40, 46, 37, 49, 48, 12, 48, 42, 43, 45, 48, 17, 49, 28]\n",
      "[[ 0.00446429  0.00446429  0.00446429 ...,  0.00446429  0.00446429\n",
      "   0.00446429]\n",
      " [ 0.00446429  0.00446429  0.00446429 ...,  0.00446429  0.00446429\n",
      "   0.00446429]\n",
      " [ 0.00542043  0.00542043  0.00542043 ...,  0.00542043  0.00542043\n",
      "   0.00542043]\n",
      " ..., \n",
      " [ 0.00677216  0.00677216  0.00677216 ...,  0.00677216  0.00677216\n",
      "   0.00677216]\n",
      " [ 0.02034334  0.02034334  0.02034334 ...,  0.02034334  0.02034334\n",
      "   0.02034334]\n",
      " [ 0.01150504  0.01150504  0.01150504 ...,  0.01150504  0.01150504\n",
      "   0.01150504]]\n"
     ]
    }
   ],
   "source": [
    "#  threshold is in range of [0.1 - 0.3]\n",
    "#  very high thresholds may lose almost all of the information in a similarity matrix\n",
    "threshold = 0.1\n",
    "#  tolerance is also consider as damping factor, range [0.1 - 0.2], research paper has taken it as 0.85\n",
    "tolerance = 0.1\n",
    "# L, degree = lexRank(allSentences,threshold, tolerance, testTotalDocs, testTermDocFrequencyDict)\n",
    "L, degree = lexRank(testFile, threshold, tolerance, testTotalDocs, testTermDocFrequencyDict)\n",
    "print(degree)\n",
    "print(L)"
   ]
  },
  {
   "cell_type": "code",
   "execution_count": 116,
   "metadata": {
    "scrolled": false
   },
   "outputs": [
    {
     "name": "stdout",
     "output_type": "stream",
     "text": [
      "0.000558035714286    0\n",
      "0.000558035714286    1\n",
      "0.00235155790711    2\n",
      "0.00235155790711    3\n",
      "0.000558035714286    4\n",
      "0.00235155790711    5\n",
      "0.00235155790711    6\n",
      "0.00265837997887    7\n",
      "0.0145375041689    8\n",
      "0.00585102238336    9\n",
      "0.00887908369351    10\n",
      "0.00270190029713    11\n",
      "0.0074575452333    12\n",
      "0.0104127887472    13\n",
      "0.00612533053804    14\n",
      "0.000558035714286    15\n",
      "0.00430429355953    16\n",
      "0.0037771996083    17\n",
      "0.00244027100985    18\n",
      "0.000558035714286    19\n",
      "0.00446152969159    20\n",
      "0.00402625613588    21\n",
      "0.000558035714286    22\n",
      "0.00382827592208    23\n",
      "0.0042696240655    24\n",
      "0.00875090324834    25\n",
      "0.00415768639625    26\n",
      "0.00269866991032    27\n",
      "0.00587101587985    28\n",
      "0.00746250335007    29\n",
      "0.00236569691023    30\n",
      "0.00445545048088    31\n",
      "0.0177425691962    32\n",
      "0.00255957665439    33\n",
      "0.00429398610681    34\n",
      "0.00573678420078    35\n",
      "0.00235155790711    36\n",
      "0.00257683088511    37\n",
      "0.00553621733969    38\n",
      "0.000558035714286    39\n",
      "0.00235155790711    40\n",
      "0.00758734812269    41\n",
      "0.00594528363699    42\n",
      "0.0170924738028    43\n",
      "0.00390690970075    44\n",
      "0.0107146973767    45\n",
      "0.00438992490138    46\n",
      "0.00548434899369    47\n",
      "0.0108314643645    48\n",
      "0.00706328125534    49\n",
      "0.00396327072149    50\n",
      "0.00413156156767    51\n",
      "0.00606520789593    52\n",
      "0.00248255739721    53\n",
      "0.00708222029623    54\n",
      "0.00247943733981    55\n"
     ]
    }
   ],
   "source": [
    "i=0\n",
    "for row in L:\n",
    "#     for col in row:\n",
    "#         print(str(col)) + ('  ')\n",
    "    print(str(row[0]) + '    ' + str(i))\n",
    "    i += 1\n",
    "#     print('\\n')"
   ]
  },
  {
   "cell_type": "code",
   "execution_count": 174,
   "metadata": {
    "collapsed": true
   },
   "outputs": [],
   "source": [
    "maxVal = 0\n",
    "for row in L:\n",
    "    if row[0] > maxVal:\n",
    "        maxVal = row[0]    "
   ]
  },
  {
   "cell_type": "code",
   "execution_count": 175,
   "metadata": {},
   "outputs": [
    {
     "name": "stdout",
     "output_type": "stream",
     "text": [
      "0.0168150198829\n",
      "A sign held univers michigan student host espn ’ s colleg gameday pregam said ‘ Hi lizzi seeberg ’ spark outrag appear taunt girl accus univers notr dame footbal player sexual assault aug 31 , 2010 alleg appear ignor step way .    8\n",
      "Ms seeberg , 19 , freshman St mari ’ s colleg , small women ’ s cathol colleg liter street mighti notr dame .    9\n",
      "unabl live aftermath alleg sexual assault notr dame ’ s refus acknowledg repeat attempt engag school manner , Ms seeberg dead nine day later – devout cathol overdos antidepress prescrib treat anxieti depress .    11\n",
      "the player public prestigi cathol univers appear swept thing rug , address earlier year .    12\n",
      "have seemingli dissip ether time , lizzi seeberg ’ s , alleg plight , weren ’ t mind peopl saturday morn sign say ‘ Hi lizzi seeberg ’ appear colleg gameday co-host desmond howard discuss notr dame-michigan game play later day UM ’ s campu .    13\n",
      "Mr howard won 1991 heisman trophi colleg footbal ’ s greatest player season univers michigan . He did react on-air sign , did espn .    14\n",
      "she love countri music : pictur keith urban concert , lizzi seeberg buri hat suicid , accord report    15\n",
      "‘ just `` Hi lizzi seeberg . '' So disrespect . how doe espn let TV . ’ ( sic ) tweet @ sutterhomewhin .    17\n",
      "the knee-jerk reaction ‘ you stay classi , michigan , ' tweet .    19\n",
      "realiz ‘ statement ’ taken way hadn ’ t intend , student held sign email deadspin explan .    20\n",
      "call entir ordeal ‘ unaccept , ’ letter ’ s author write ’ s ‘ just unaccept eye colleg footbal fan , , unaccept eye societi . notr dame better . We , peopl , better . ’    21\n",
      "referenc open secret ‘ just system cultur sexual assault put notr dame bad light . It 's cultur dismiss denial pervad univers . ’    22\n",
      "‘ notr dame , day one , spent lot time cover . from non-stat priest , anger presid jenkin , notr dame n't offici said , ’ wrote .    23\n",
      "the letter writer , hit stride , note text Ms seeburg receiv friend tell alleg assault .    24\n",
      "‘ Do n't regret , ’ ’ mess notr dame footbal bad idea . ’ ( sic )    26\n",
      "‘ In short , [ sign ] n't forgotten , peopl know care stori . even school refus acknowledg , peopl , ’ wrote letter .    27\n",
      "with time notr dame like play univers michigan ’ s ‘ big hous , ’ student decid saturday time make point .    28\n",
      "‘ We , michigan , chanc say disgrac farc univers , today . So , I did . becaus right thing , ’ wrote .    29\n",
      "‘ everyon import , notr dame . everyon valu , notr dame . you n't treat victim way , famili way , notr dame . and n't , call , ’ later ad .    30\n",
      "the student urg peopl donat mission set Ms seeberg ’ s famili honor , way rememb endless chariti work did help chicago ’ s poor fortun , school ’ s legaci fund – say donat $ 25 , ‘ cost michigan/notr dame gameday t-shirt . ’    31\n",
      "Ms seeberg ’ s stori took month public accus notr dame footbal player sexual assault . the alleg detail polic report obtain nation cathol report .    32\n",
      "the aggressor : notr dame offici tri paint aggressor , say action woman scorn    33\n",
      "‘ He start suck neck I start cri harder , ’ Ms seeberg wrote report , accord ncr . ‘ He pull tank strap . He slip shoulder proceed suck lick right breast hold lap arm , ' continu .    34\n",
      "'I felt hand start short tri unbutton pull . I cri point felt scare I n't , ’ report said .    35\n",
      "the prosecutor declin bring charg case Ms seeberg kill herself , , ncr point , fairli common instanc accus take life wit alleg crime .    36\n",
      "Ms seeberg , accord ncr report , ‘ polit person conserv , brand new member colleg republican led parish youth group spoke openli save herself marriag . ’    37\n",
      "notr dame offici move quickli portray woman scorn , ‘ aggress young woman lie sexual reject first moment , ’ ncr report .    38\n",
      "the alleg attack histori misbehaviour reput hot head , suspend high school misbehaviour , said ncr .    39\n",
      "sever inconsist stori told involv muddl truth , mayb separ truth – base percept . whatev case , prosecutor press charg , player name move life - lizzi seeberg end 's .    40\n",
      "No punish : the unnam player involv did miss singl game , play januari 's nation championship notr dame 's fight irish footbal team ( blue gold )    41\n",
      "‘ He told lap danc I did n't know , ’ Ms seeburg wrote report .    43\n",
      "the day chicago tribun Ms seeberg ’ s alleg subsequ suicid public – month fact – notr dame footbal coach joke media confer ‘ did n't know tribun afford report pepper question case , ’ accord ncr . coach kelli did suspend player question accus look , play game , singl practic .    45\n",
      "the school address alleg januari 2013 , admit huffington post ‘ act bit quickli , ’ instead apolog fail acknowledg alleg two year , school spokesperson took opportun point Ms seeberg rape , ‘ fact , alleg touch waist . ’    46\n",
      "Ms seeberg ’ s case isn ’ t first one femal accus notr dame footbal player sexual assault , rape improprieti .    48\n",
      "one girl accus member team rape februari 2011 , girl drove hospit attack claim rape footbal player , ncr report .    49\n",
      "that girl urg quiet text messag sent player , parent told ncr .    50\n",
      "when told alleg , school administr told shock parent ’ d player ‘ knock , ’ accord ncr .    51\n",
      "those numer alleg attack notr dame footbal player , easili onlin – wide report .    52\n",
      "‘ notr dame , thing , chicken have spine say famili girl blood hand , ’ sign holder wrote letter deadspin .    54\n"
     ]
    }
   ],
   "source": [
    "cutOff = 20\n",
    "systemGenerated = []\n",
    "cutOffVal = ((100 - cutOff)/100) * maxVal\n",
    "print(cutOffVal)\n",
    "i = 0\n",
    "for row in L:\n",
    "    if row[0] > cutOffVal:\n",
    "        systemGenerated.append(allSentences[i])\n",
    "        print(allSentences[i] + '   '+ str(i))\n",
    "    i += 1"
   ]
  },
  {
   "cell_type": "code",
   "execution_count": 128,
   "metadata": {},
   "outputs": [
    {
     "data": {
      "text/plain": [
       "{'dailymail_0a0a733db965c3fdf9bc2895104a1ef884a3d593.story': ['Despite widespread outrage, he claims the sign was meant to bring attention to her case, and that of others whose accusations of sexual assault at the University of Notre Dame have been ignored or covered up',\n",
       "  'Lizzy Seeberg, 19, was a freshman at a small Catholic college across the street from Notre Dame',\n",
       "  'Ms Seeberg had a history of anxiety and depression, and overdosed on her prescribed medication to kill herself',\n",
       "  'Notre Dame administration refused for over two years to even acknowledge the accusations, outside of A JOKE made by football coach Brian Kelly',\n",
       "  'The football player accused of the assault was never suspended, never missed a game and was allowed to attend all practices',\n",
       "  \"The trip was Notre Dame's last to Michigan, the student felt the need to 'stand up for what's right'\"]}"
      ]
     },
     "execution_count": 128,
     "metadata": {},
     "output_type": "execute_result"
    }
   ],
   "source": [
    "testDocSummaryDict['dailymail_0a0a733db965c3fdf9bc2895104a1ef884a3d593.story']"
   ]
  },
  {
   "cell_type": "code",
   "execution_count": 65,
   "metadata": {},
   "outputs": [
    {
     "data": {
      "text/plain": [
       "56"
      ]
     },
     "execution_count": 65,
     "metadata": {},
     "output_type": "execute_result"
    }
   ],
   "source": [
    "len(testDocSentencesDict['dailymail_0a0a733db965c3fdf9bc2895104a1ef884a3d593.story'])\n",
    "# sum(testDocSentencesDict.values())"
   ]
  },
  {
   "cell_type": "code",
   "execution_count": null,
   "metadata": {},
   "outputs": [],
   "source": []
  },
  {
   "cell_type": "code",
   "execution_count": 176,
   "metadata": {},
   "outputs": [],
   "source": [
    "# systemGenerated.txt,humanGenerated.txt\n",
    "writeResults('systemGenerated_2.txt', systemGenerated)"
   ]
  },
  {
   "cell_type": "code",
   "execution_count": 177,
   "metadata": {},
   "outputs": [],
   "source": [
    "writeResults('humanGenerated_2.txt', testDocSummaryDict['dailymail_0a0a733db965c3fdf9bc2895104a1ef884a3d593.story'])"
   ]
  },
  {
   "cell_type": "code",
   "execution_count": null,
   "metadata": {},
   "outputs": [],
   "source": []
  },
  {
   "cell_type": "code",
   "execution_count": null,
   "metadata": {},
   "outputs": [],
   "source": []
  },
  {
   "cell_type": "code",
   "execution_count": null,
   "metadata": {},
   "outputs": [],
   "source": []
  },
  {
   "cell_type": "code",
   "execution_count": null,
   "metadata": {
    "collapsed": true
   },
   "outputs": [],
   "source": []
  },
  {
   "cell_type": "code",
   "execution_count": null,
   "metadata": {},
   "outputs": [],
   "source": []
  },
  {
   "cell_type": "code",
   "execution_count": null,
   "metadata": {
    "collapsed": true
   },
   "outputs": [],
   "source": []
  },
  {
   "cell_type": "code",
   "execution_count": null,
   "metadata": {},
   "outputs": [],
   "source": []
  },
  {
   "cell_type": "code",
   "execution_count": null,
   "metadata": {
    "collapsed": true
   },
   "outputs": [],
   "source": []
  }
 ],
 "metadata": {
  "kernelspec": {
   "display_name": "Python 3",
   "language": "python",
   "name": "python3"
  },
  "language_info": {
   "codemirror_mode": {
    "name": "ipython",
    "version": 3
   },
   "file_extension": ".py",
   "mimetype": "text/x-python",
   "name": "python",
   "nbconvert_exporter": "python",
   "pygments_lexer": "ipython3",
   "version": "3.6.3"
  }
 },
 "nbformat": 4,
 "nbformat_minor": 2
}
