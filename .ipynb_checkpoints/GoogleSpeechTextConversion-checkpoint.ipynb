{
 "cells": [
  {
   "cell_type": "markdown",
   "metadata": {},
   "source": [
    "# Referring to\n",
    "# https://cloud.google.com/speech/docs/reference/libraries#client-libraries-install-python"
   ]
  },
  {
   "cell_type": "code",
   "execution_count": null,
   "metadata": {
    "collapsed": true
   },
   "outputs": [],
   "source": [
    "import io\n",
    "import os\n",
    "from google.cloud import speech\n",
    "from google.cloud.speech import enums\n",
    "from google.cloud.speech import types\n",
    "\n",
    "# sourceFilename = absolute path\n",
    "# DestinationFilename = absolute path\n",
    "def speechToText(fileName):\n",
    "    speechClient = speech.SpeechClient()\n",
    "    os.environ[\"GOOGLE_APPLICATION_CREDENTIALS\"]=\"/Users/jatintaneja/TextSummarization/GoogleApi-key.json\"\n",
    "#     fileName = 'audio.raw'\n",
    "    print(os.environ[\"GOOGLE_APPLICATION_CREDENTIALS\"])\n",
    "    \n",
    "    with io.open(fileName, 'rb') as audioFile:\n",
    "        content = audioFile.read()\n",
    "    print('Have read the content of audio file')\n",
    "    \n",
    "    audio = types.RecognitionAudio(content=content)\n",
    "    config = types.RecognitionConfig(\n",
    "#         encodings=enums.RecognitionConfig.AudioEncoding.LINEAR16,\n",
    "#         sample_rate_hertz=16000,\n",
    "        language_code='en-US')\n",
    "    print('Have initiated the config of audio file')\n",
    "# #                                 key='/Users/jatintaneja/TextSummarization/GoogleApi-key.json')\n",
    "\n",
    "    response = speechClient.recognize(config,audio)\n",
    "    return response\n",
    "#     print('response from google api is ', response.results.alternatives)\n",
    "#     with open('DrashtiMamClassTrimmed.txt', 'w') as out:\n",
    "#         out.write(response)\n",
    "#         print('Text content written to file')"
   ]
  },
  {
   "cell_type": "code",
   "execution_count": null,
   "metadata": {
    "collapsed": true
   },
   "outputs": [],
   "source": []
  },
  {
   "cell_type": "code",
   "execution_count": null,
   "metadata": {},
   "outputs": [],
   "source": [
    "response = speechToText('Drashti2.wav')"
   ]
  },
  {
   "cell_type": "code",
   "execution_count": 42,
   "metadata": {},
   "outputs": [
    {
     "name": "stdout",
     "output_type": "stream",
     "text": [
      "response from google api is  automatic summarization is the process of shortening a text document with software in order to create a summary with the major points of the original Document Technologies that can make a coherent summary take into account variables such as land writing style and syntax automatic data summarization is part of machine learning and data mining the main idea of summarization is to find a subset of data which contains the information of the entire set search techniques are widely used in industry today search engines are an example others include summarization of document image Collections and videos document summarization tries to create a representative summarize summary of abstract of the entire document by finding the most information of sentence while in a midsummer\n",
      "Text content written to file\n"
     ]
    }
   ],
   "source": [
    "print('response from google api is ', response.results[0].alternatives[0].transcript)\n",
    "with open('Drashti2.txt', 'w') as out:\n",
    "    out.write(response.results[0].alternatives[0].transcript)\n",
    "    print('Text content written to file')"
   ]
  },
  {
   "cell_type": "code",
   "execution_count": 10,
   "metadata": {},
   "outputs": [
    {
     "name": "stdout",
     "output_type": "stream",
     "text": [
      "/Users/jatintaneja/TextSummarization/GoogleApi-key.json\n"
     ]
    }
   ],
   "source": [
    "speechToText('audio.raw')"
   ]
  },
  {
   "cell_type": "code",
   "execution_count": 16,
   "metadata": {
    "collapsed": true
   },
   "outputs": [],
   "source": [
    "def implicit():\n",
    "    from google.cloud import storage\n",
    "\n",
    "    # If you don't specify credentials when constructing the client, the\n",
    "    # client library will look for credentials in the environment.\n",
    "    storage_client = storage.Client()\n",
    "\n",
    "    # Make an authenticated API request\n",
    "    buckets = list(storage_client.list_buckets())\n",
    "    print(buckets)"
   ]
  },
  {
   "cell_type": "code",
   "execution_count": 22,
   "metadata": {
    "collapsed": true
   },
   "outputs": [],
   "source": [
    "def explicit():\n",
    "    from google.cloud import storage\n",
    "\n",
    "    # Explicitly use service account credentials by specifying the private key\n",
    "    # file.\n",
    "    storage_client = storage.Client.from_service_account_json(\n",
    "        'GoogleApi-Key.json')\n",
    "\n",
    "    # Make an authenticated API request\n",
    "    buckets = list(storage_client.list_buckets())\n",
    "    print(buckets)"
   ]
  },
  {
   "cell_type": "code",
   "execution_count": 17,
   "metadata": {},
   "outputs": [
    {
     "data": {
      "text/plain": [
       "<function __main__.implicit>"
      ]
     },
     "execution_count": 17,
     "metadata": {},
     "output_type": "execute_result"
    }
   ],
   "source": [
    "implicit"
   ]
  },
  {
   "cell_type": "code",
   "execution_count": 23,
   "metadata": {},
   "outputs": [
    {
     "data": {
      "text/plain": [
       "<function __main__.explicit>"
      ]
     },
     "execution_count": 23,
     "metadata": {},
     "output_type": "execute_result"
    }
   ],
   "source": [
    "explicit"
   ]
  },
  {
   "cell_type": "code",
   "execution_count": null,
   "metadata": {
    "collapsed": true
   },
   "outputs": [],
   "source": [
    "# https://www.alexkras.com/transcribing-audio-file-to-text-with-google-cloud-speech-api-and-python/"
   ]
  },
  {
   "cell_type": "code",
   "execution_count": 5,
   "metadata": {
    "collapsed": true
   },
   "outputs": [],
   "source": [
    "# from pydub import AudioSegment\n",
    "# sound = AudioSegment.from_mp3(\"good.mp3\")\n",
    "# sound.export(\"good.wav\", format=\"wav\")"
   ]
  },
  {
   "cell_type": "code",
   "execution_count": null,
   "metadata": {
    "collapsed": true
   },
   "outputs": [],
   "source": [
    "# import os\n",
    "# import speech_recognition as sr\n",
    "# from tqdm import tqdm\n",
    "\n",
    "# with open(\"GoogleApi-key.json\") as key:\n",
    "#     google_cloud_speech_credentials = key.read()\n",
    "    \n",
    "# r = sr.Recognizer()\n",
    "# files = os.listdir('parts/')\n",
    "# all_text = []\n",
    "# for f in tqdm(files):\n",
    "#     name = 'parts' + f\n",
    "# #     load audio file\n",
    "    \n"
   ]
  },
  {
   "cell_type": "code",
   "execution_count": 7,
   "metadata": {},
   "outputs": [
    {
     "name": "stdout",
     "output_type": "stream",
     "text": [
      "Could not request results from Google Speech Recognition service; recognition connection failed: [Errno 32] Broken pipe\n"
     ]
    }
   ],
   "source": [
    "#  https://www.geeksforgeeks.org/speech-recognition-in-python-using-google-speech-api/\n",
    "\n",
    "import speech_recognition as spchrecg\n",
    "\n",
    "AUDIO_FILE = (\"drashtimamclassTrimmed.wav\")\n",
    " \n",
    "# use the audio file as the audio source\n",
    "recognizer = spchrecg.Recognizer()\n",
    "\n",
    "#  converting source mp3 file to wav file\n",
    "# https://stackoverflow.com/questions/3049572/how-to-convert-mp3-to-wav-in-python?utm_medium=organic&utm_source=google_rich_qa&utm_campaign=google_rich_qa\n",
    "# from pydub import AudioSegment\n",
    "# sound = AudioSegment.from_mp3(\"good.mp3\")\n",
    "# sound.export(\"good.wav\", format=\"wav\")\n",
    "\n",
    "\n",
    "# load an wave file\n",
    "with spchrecg.AudioFile(AUDIO_FILE) as source:\n",
    "    audio = recognizer.record(source)  \n",
    " \n",
    "try:\n",
    "    response = recognizer.recognize_google(audio)\n",
    "    print(\"The audio file contains: \" + response)\n",
    "    \n",
    "    with open('drashtimamclassTrimmed.txt', 'w') as out:\n",
    "        out.write(response)\n",
    "        print('Text content written to file')\n",
    " \n",
    "except spchrecg.UnknownValueError:\n",
    "    print(\"Google Speech Recognition could not understand audio\")\n",
    " \n",
    "except spchrecg.RequestError as e:\n",
    "    print(\"Could not request results from Google Speech Recognition service; {0}\".format(e))"
   ]
  },
  {
   "cell_type": "code",
   "execution_count": 1,
   "metadata": {
    "collapsed": true
   },
   "outputs": [],
   "source": [
    "# def synthesize_text(text):\n",
    "# #     synthesizes speech from input string of input\n",
    "#     from google.cloud import texttospeech\n",
    "# #     import google.cloud.texttospeech\n",
    "#     client = texttospeech.TextToSpeechClient()\n",
    "#     input_text = texttospeech.types.SynthesisInput(text = text)\n",
    "    \n",
    "#     voice = texttospeech.types.VoiceSelectection(\n",
    "#     language_code = 'en-US',\n",
    "#     ssml_generator = texttospeech.enums.SsmlVoiceGender.FEMALE)\n",
    "    \n",
    "#     audio_config = texttospeech.types.AudioConfig(audio_encoding = texttoSpeech.enums.AudioEncoding.MP3)\n",
    "    \n",
    "#     response = client.synthesize_speech(input_text,voice,audio_config)\n",
    "    \n",
    "#     with open('output.mp3', 'wb') as out:\n",
    "#         out.write(response.audio_content)\n",
    "#         print('Audio content written to file')"
   ]
  },
  {
   "cell_type": "code",
   "execution_count": 20,
   "metadata": {
    "collapsed": true
   },
   "outputs": [],
   "source": [
    "# synthesize_text('Shift is going to get over soon')"
   ]
  },
  {
   "cell_type": "code",
   "execution_count": 51,
   "metadata": {
    "collapsed": true
   },
   "outputs": [],
   "source": [
    "# https://pythonprogramminglanguage.com/text-to-speech/\n",
    "from gtts import gTTS\n",
    "import os\n",
    "def textToSpeech(text):\n",
    "    tts = gTTS(text=text, lang='en')\n",
    "    tts.save('good.mp3')\n",
    "#     tts.save(\"good.wav\")\n",
    "#     os.system(\"mpg321 good.wav\")"
   ]
  },
  {
   "cell_type": "code",
   "execution_count": null,
   "metadata": {
    "collapsed": true
   },
   "outputs": [],
   "source": [
    "textToSpeech('automatic summarization is the process of shortening a text document with software in order to create \\\n",
    "             a summary with the major points of the original Document Technologies that can make a coherent summary \\\n",
    "             take into account variables such as land writing style and syntax automatic data summarization is part \\\n",
    "             of machine learning and data mining the main idea of summarization is to find a subset of data which \\\n",
    "             contains the information of the entire set search techniques are widely used in industry today search \\\n",
    "             engines are an example others include summarization of document image Collections and videos document \\\n",
    "             summarization tries to create a representative summarize summary of abstract of the entire document by \\\n",
    "             finding the most information of sentence while in a midsummer Text content written to file')"
   ]
  },
  {
   "cell_type": "code",
   "execution_count": null,
   "metadata": {
    "collapsed": true
   },
   "outputs": [],
   "source": []
  }
 ],
 "metadata": {
  "kernelspec": {
   "display_name": "Python 3",
   "language": "python",
   "name": "python3"
  },
  "language_info": {
   "codemirror_mode": {
    "name": "ipython",
    "version": 3
   },
   "file_extension": ".py",
   "mimetype": "text/x-python",
   "name": "python",
   "nbconvert_exporter": "python",
   "pygments_lexer": "ipython3",
   "version": "3.6.3"
  }
 },
 "nbformat": 4,
 "nbformat_minor": 2
}
