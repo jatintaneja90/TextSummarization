{
 "cells": [
  {
   "cell_type": "markdown",
   "metadata": {},
   "source": [
    "# Referring to\n",
    "# https://cloud.google.com/speech/docs/reference/libraries#client-libraries-install-python"
   ]
  },
  {
   "cell_type": "code",
   "execution_count": 1,
   "metadata": {
    "collapsed": true
   },
   "outputs": [],
   "source": [
    "import io\n",
    "import os\n",
    "from google.cloud import speech\n",
    "from google.cloud.speech import enums\n",
    "from google.cloud.speech import types\n",
    "\n",
    "# sourceFilename = absolute path\n",
    "# DestinationFilename = absolute path\n",
    "def speechToText(sourceFilename):\n",
    "    speechClient = speech.SpeechClient()\n",
    "\n",
    "    fileName = os.path.join(os.path.dirname(sourceFilename),'resources','audio.raw')\n",
    "\n",
    "    with io.open(fileName, 'rb') as audioFile:\n",
    "        content = audioFile.read()\n",
    "        audio = types.RecognitionAudio(content=content)\n",
    "\n",
    "    config = types.RecognitionConfig(encodings = enums.RecognitionConfig.AudioEncoding.LINEAR16,\n",
    "                                sample_rate_hertz = 16000,\n",
    "                                language_code = 'en-US')\n",
    "    response = client.recognize(config,audio)\n",
    "    with open('output.txt', 'wb') as out:\n",
    "        out.write(response)\n",
    "        print('Text content written to file')"
   ]
  },
  {
   "cell_type": "code",
   "execution_count": null,
   "metadata": {
    "collapsed": true
   },
   "outputs": [],
   "source": []
  },
  {
   "cell_type": "code",
   "execution_count": 3,
   "metadata": {
    "collapsed": true
   },
   "outputs": [],
   "source": [
    "def synthesize_text(text):\n",
    "#     synthesizes speech from input string of input\n",
    "    from google.cloud import texttospeech\n",
    "    client = texttospeech.TextToSpeechClient()\n",
    "    input_text = texttospeech.types.SynthesisInput(text = text)\n",
    "    \n",
    "    voice = texttospeech.types.VoiceSelectection(\n",
    "    language_code = 'en-US',\n",
    "    ssml_generator = texttospeech.enums.SsmlVoiceGender.FEMALE)\n",
    "    \n",
    "    audio_config = texttospeech.types.AudioConfig(audio_encoding = texttoSpeech.enums.AudioEncoding.MP3)\n",
    "    \n",
    "    response = client.synthesize_speech(input_text,voice,audio_config)\n",
    "    \n",
    "    with open('output.mp3', 'wb') as out:\n",
    "        out.write(response.audio_content)\n",
    "        print('Audio content written to file')"
   ]
  },
  {
   "cell_type": "code",
   "execution_count": null,
   "metadata": {
    "collapsed": true
   },
   "outputs": [],
   "source": []
  }
 ],
 "metadata": {
  "kernelspec": {
   "display_name": "Python 3",
   "language": "python",
   "name": "python3"
  },
  "language_info": {
   "codemirror_mode": {
    "name": "ipython",
    "version": 3
   },
   "file_extension": ".py",
   "mimetype": "text/x-python",
   "name": "python",
   "nbconvert_exporter": "python",
   "pygments_lexer": "ipython3",
   "version": "3.6.3"
  }
 },
 "nbformat": 4,
 "nbformat_minor": 2
}
