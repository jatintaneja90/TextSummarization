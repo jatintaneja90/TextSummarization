{
 "cells": [
  {
   "cell_type": "code",
   "execution_count": 11,
   "metadata": {},
   "outputs": [],
   "source": [
    "def computeBM25Score(R,S,tf,k,b,avgDL):\n",
    "    S = S.split()\n",
    "    R = R.split()\n",
    "    score = 0\n",
    "    for ws in S:\n",
    "        numerator = tf[ws] * (k + 1)\n",
    "        denominator = tf[ws] + k * (1- b + b * (len(R)/avgDL))\n",
    "        score += idf(ws)  * numerator/denominator\n",
    "    return score "
   ]
  },
  {
   "cell_type": "code",
   "execution_count": 12,
   "metadata": {},
   "outputs": [],
   "source": [
    "def idf(word):\n",
    "    return 1"
   ]
  },
  {
   "cell_type": "code",
   "execution_count": 13,
   "metadata": {},
   "outputs": [],
   "source": [
    "def readFile(path):\n",
    "    file = open(path,\"r\")\n",
    "    sentences = []\n",
    "    for line in file:\n",
    "        line = line.strip()\n",
    "        if line.strip():\n",
    "            if line == \"@highlight\":\n",
    "                break\n",
    "            sentences.append(line)\n",
    "            \n",
    "    file.close()\n",
    "    return sentences"
   ]
  },
  {
   "cell_type": "code",
   "execution_count": 14,
   "metadata": {},
   "outputs": [],
   "source": [
    "def createSimilarityMatrix(sentences,k,b):\n",
    "    BM25_scores = [[0 for x in range(len(sentences))] for y in range(len(sentences))]\n",
    "    avgDL = computeAvgDL(sentences)\n",
    "    for i in range(len(sentences)):\n",
    "        for j in range(len(sentences)):\n",
    "            if i == j:\n",
    "                BM25_scores[i][j] = 1\n",
    "            else:\n",
    "                \n",
    "                tf = generateTF(sentences[i],sentences[j])\n",
    "                BM25_scores[i][j] = computeBM25Score(sentences[i],sentences[j],tf,k,b,avgDL)\n",
    "    return BM25_scores"
   ]
  },
  {
   "cell_type": "code",
   "execution_count": 15,
   "metadata": {},
   "outputs": [],
   "source": [
    "def computeAvgDL(sentences):\n",
    "    sum =  0\n",
    "    for s in sentences:\n",
    "        sum += len(s.split())\n",
    "    avg = sum/len(sentences)\n",
    "    return avg"
   ]
  },
  {
   "cell_type": "code",
   "execution_count": 16,
   "metadata": {},
   "outputs": [],
   "source": [
    "def generateTF(R,S):\n",
    "    tf = {}\n",
    "    #print(R,S)\n",
    "    S = S.split()\n",
    "    R = R.split()\n",
    "    for ws in S:\n",
    "        if ws in R:\n",
    "            if ws in tf:\n",
    "                tf[ws] += 1\n",
    "            else:\n",
    "                tf[ws] = 1\n",
    "        else:\n",
    "            tf[ws] = 0\n",
    "    #print(tf)\n",
    "    return tf"
   ]
  },
  {
   "cell_type": "code",
   "execution_count": 17,
   "metadata": {},
   "outputs": [],
   "source": [
    "def textRank(sentences,BM25_Score,d):\n",
    "    ws = {}\n",
    "    #print(BM25_Score)\n",
    "    #assigning initial pagerank \n",
    "    for i in range(len(sentences)):\n",
    "        ws[i] = 1/len(sentences)\n",
    "    currSum = 0\n",
    "    prevSum = -1\n",
    "    \n",
    "    count = 0\n",
    "    while((currSum - prevSum) == 0 or count != 10 ):\n",
    "        prevSum = currSum\n",
    "        count += 1\n",
    "        for i in range(len(sentences)):\n",
    "            inlinkContri = 0\n",
    "            for j in range(0,i-1):\n",
    "                outlinkContrib = 0\n",
    "                for k in range(j+1,len(sentences)):\n",
    "                    outlinkContrib += BM25_Score[j][k]\n",
    "                inlinkContri += BM25_Score[j][i] * ws[j]\n",
    "            ws[i] =  (1-d) + d * inlinkContri\n",
    "            currSum += ws[i]\n",
    "    return ws"
   ]
  },
  {
   "cell_type": "code",
   "execution_count": 18,
   "metadata": {},
   "outputs": [],
   "source": [
    "import operator\n",
    "def summarize(path,outPath,ratio):\n",
    "    b = 0.75\n",
    "    k = 1.2\n",
    "    d = 0.85\n",
    "    sentences = readFile(path)\n",
    "    BM25_Score = createSimilarityMatrix(sentences,k,b)\n",
    "    sentenceScore = textRank(sentences,BM25_Score,d)\n",
    "    file = open(outPath,\"w+\")\n",
    "    n = int(ratio * len(sentences))\n",
    "    #print(sentenceScore)\n",
    "    sentenceScore = sorted(sentenceScore.items(), key=lambda x:x[1], reverse=True)[:n]\n",
    "    print(sentenceScore)\n",
    "    for index in sentenceScore:\n",
    "        i = index[0]\n",
    "        file.write(sentences[i])\n",
    "        print(sentences[i])\n",
    "        file.write(\"\\n\")\n",
    "        print(\"\\n\")\n",
    "    file.close()"
   ]
  },
  {
   "cell_type": "code",
   "execution_count": 19,
   "metadata": {},
   "outputs": [
    {
     "name": "stdout",
     "output_type": "stream",
     "text": [
      "[(37, 753494255439859.2), (38, 623487855173682.0), (35, 86550289843647.48), (34, 36099789019295.04), (36, 11930822274930.592), (33, 8896532200649.855), (32, 2697107566875.2007)]\n",
      "\"Wherever we get is where we get,\" he adds. \"We kind of have a goal of where we like to be in the end.\"\n",
      "\n",
      "\n",
      "Given the path Kim Dahl and her loved ones have traveled since 2007, that phrase could be the family motto too.\n",
      "\n",
      "\n",
      "\"My mom could never afford it...we never went anywhere,\" Kim Dahl recalls of her childhood. \"And we went on [our] first trip and it was just awesome. To learn stuff and to see stuff was just amazing.\"\n",
      "\n",
      "\n",
      "But the family camper may be the next best thing. So far, they've made it as far as Florida to the east and Colorado to the west.\n",
      "\n",
      "\n",
      "As Dave Dahl describes it, there's \"no stress, there's no itinerary, nothing, we just go.\"\n",
      "\n",
      "\n",
      "Kim Dahl says she'll never be able to drive a bus again -- something she misses more than anything. She had the same bus routes for years and knew the kids and their parents well.\n",
      "\n",
      "\n",
      "Those are words the family is living by.   Kim Dahl has had to give up what her husband Dave Dahl would call the \"wilder motor sports,\" and the five of them have taken on a new hobby: road trips.\n",
      "\n",
      "\n"
     ]
    }
   ],
   "source": [
    "summarize(\"C:\\\\NewsData\\\\NewsFile3.txt\",\"C:\\\\NewsData\\\\SummryNewsFile3.txt\",0.2)\n"
   ]
  },
  {
   "cell_type": "code",
   "execution_count": null,
   "metadata": {},
   "outputs": [],
   "source": []
  }
 ],
 "metadata": {
  "kernelspec": {
   "display_name": "Python 3",
   "language": "python",
   "name": "python3"
  },
  "language_info": {
   "codemirror_mode": {
    "name": "ipython",
    "version": 3
   },
   "file_extension": ".py",
   "mimetype": "text/x-python",
   "name": "python",
   "nbconvert_exporter": "python",
   "pygments_lexer": "ipython3",
   "version": "3.6.4"
  }
 },
 "nbformat": 4,
 "nbformat_minor": 2
}
