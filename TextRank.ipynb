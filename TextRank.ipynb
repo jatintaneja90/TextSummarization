{
 "cells": [
  {
   "cell_type": "code",
   "execution_count": 440,
   "metadata": {},
   "outputs": [],
   "source": [
    "def computeBM25Score(R,S,idf,tf,k,b,avgDL):\n",
    "    S = S.split()\n",
    "    R = R.split()\n",
    "    score = 0\n",
    "    for ws in S:\n",
    "        numerator = tf[ws] * (k + 1)\n",
    "        denominator = tf[ws] + k * (1- b + b * (len(R)/avgDL))\n",
    "        score += computeIdf(ws,idf)  * numerator/denominator\n",
    "    return score "
   ]
  },
  {
   "cell_type": "code",
   "execution_count": 441,
   "metadata": {},
   "outputs": [],
   "source": [
    "def computeIdf(word,idf):\n",
    "    if word in idf:\n",
    "        #print(idf[word])\n",
    "        return idf[word]\n",
    "    else:\n",
    "        return 1"
   ]
  },
  {
   "cell_type": "code",
   "execution_count": 442,
   "metadata": {},
   "outputs": [],
   "source": [
    "def readFile(path):\n",
    "    file = open(path,\"r\")\n",
    "    sentences = []\n",
    "    for line in file:\n",
    "        line = line.strip()\n",
    "        if line.strip():\n",
    "            if line == \"@highlight\":\n",
    "                break\n",
    "            sentences.append(line)\n",
    "            \n",
    "    file.close()\n",
    "    return sentences"
   ]
  },
  {
   "cell_type": "code",
   "execution_count": 443,
   "metadata": {},
   "outputs": [],
   "source": [
    "def stopping(sentences):\n",
    "    stoppedSent = []\n",
    "    stopWords =[]\n",
    "    file = open(\"stop-word-list.txt\", 'r')\n",
    "    for line in file:\n",
    "        stopWords.append(line.strip())\n",
    "    for s in sentences:\n",
    "        temp = s.split()\n",
    "        sent = \"\"\n",
    "        for w in temp:\n",
    "            if w not in stopWords:\n",
    "                sent += w + \" \"\n",
    "        stoppedSent.append(sent)\n",
    "    return stoppedSent\n",
    "    "
   ]
  },
  {
   "cell_type": "code",
   "execution_count": 444,
   "metadata": {},
   "outputs": [],
   "source": [
    "from nltk.stem import PorterStemmer \n",
    "\n",
    "def stemming(sentences):\n",
    "    stemmedSent = []\n",
    "    ps = PorterStemmer()\n",
    "    for s in sentences:\n",
    "        temp = s.split()\n",
    "        stemmedWord = \"\"\n",
    "        for w in temp:\n",
    "            stemmedWord += ps.stem(w) + \" \"\n",
    "        stemmedSent.append(stemmedWord)\n",
    "    return stemmedSent\n",
    "            \n",
    "    "
   ]
  },
  {
   "cell_type": "code",
   "execution_count": 445,
   "metadata": {},
   "outputs": [],
   "source": [
    "def createSimilarityMatrix(sentences,idf,k,b):\n",
    "    BM25_scores = [[0 for x in range(len(sentences))] for y in range(len(sentences))]\n",
    "    avgDL = computeAvgDL(sentences)\n",
    "    for i in range(len(sentences)):\n",
    "        for j in range(len(sentences)):\n",
    "            if i == j:\n",
    "                BM25_scores[i][j] = 1\n",
    "            else:\n",
    "                \n",
    "                tf = generateTF(sentences[i],sentences[j])\n",
    "                BM25_scores[i][j] = computeBM25Score(sentences[i],sentences[j],idf,tf,k,b,avgDL)\n",
    "    #print(BM25_scores)\n",
    "    return BM25_scores"
   ]
  },
  {
   "cell_type": "code",
   "execution_count": 446,
   "metadata": {},
   "outputs": [],
   "source": [
    "def computeAvgDL(sentences):\n",
    "    sum =  0\n",
    "    for s in sentences:\n",
    "        sum += len(s.split())\n",
    "    avg = sum/len(sentences)\n",
    "    return avg"
   ]
  },
  {
   "cell_type": "code",
   "execution_count": 447,
   "metadata": {},
   "outputs": [],
   "source": [
    "def generateTF(R,S):\n",
    "    tf = {}\n",
    "    #print(R,S)\n",
    "    S = S.split()\n",
    "    R = R.split()\n",
    "    for ws in S:\n",
    "        if ws in R:\n",
    "            if ws in tf:\n",
    "                tf[ws] += 1\n",
    "            else:\n",
    "                tf[ws] = 1\n",
    "        else:\n",
    "            tf[ws] = 0\n",
    "    #print(tf)\n",
    "    return tf"
   ]
  },
  {
   "cell_type": "code",
   "execution_count": 448,
   "metadata": {},
   "outputs": [],
   "source": [
    "import random\n",
    "def textRank(sentences,BM25_Score,d):\n",
    "    ws = {}\n",
    "    #print(BM25_Score)\n",
    "    #assigning initial pagerank \n",
    "    for i in range(len(sentences)):\n",
    "        ws[i] = 1/len(sentences)\n",
    "    currSum = 0\n",
    "    prevSum = -1\n",
    "    \n",
    "    count = 0\n",
    "    while((currSum - prevSum) == 0 or count != 10 ):\n",
    "        prevSum = currSum\n",
    "        count += 1\n",
    "        for i in range(len(sentences)):\n",
    "            inlinkContri = 0\n",
    "            for j in range(len(sentences)):\n",
    "                if j == i:\n",
    "                    continue\n",
    "                outlinkContrib = 0\n",
    "                for k in range(len(sentences)):\n",
    "                    if k == j:\n",
    "                        continue\n",
    "                    outlinkContrib += BM25_Score[j][k]\n",
    "                if outlinkContrib != 0:\n",
    "                    inlinkContri += (BM25_Score[j][i]/outlinkContrib) * ws[j]\n",
    "                else: \n",
    "                    inlinkContri = 0\n",
    "            ws[i] =  (1-d) + d * inlinkContri\n",
    "            currSum += ws[i]\n",
    "    return ws"
   ]
  },
  {
   "cell_type": "code",
   "execution_count": 449,
   "metadata": {},
   "outputs": [],
   "source": [
    "from os import getcwd\n",
    "from os.path import join\n",
    "def generateIdfDict():\n",
    "    idfFile = 'finalIdfscore.csv'\n",
    "    file = join(getcwd(), idfFile)\n",
    "    idfDict = {}\n",
    "    f = open(file,'r',encoding=\"utf8\")\n",
    "    for line in f:\n",
    "        lineArr = line.split(',')\n",
    "        idfDict[lineArr[0]] = float(lineArr[1])\n",
    "    f.close()\n",
    "    print(\"idf done\")\n",
    "    return idfDict"
   ]
  },
  {
   "cell_type": "code",
   "execution_count": 450,
   "metadata": {},
   "outputs": [],
   "source": [
    "import operator\n",
    "def summarize(path,outPath,ratio):\n",
    "    b = 0.75\n",
    "    k = 1.2\n",
    "    d = 0.85\n",
    "    sentences = readFile(path)\n",
    "    stoppedSentences = stopping(sentences)\n",
    "    stemmedSentences = stemming(sentences)\n",
    "    #print(stemmedSentences)\n",
    "    idf = generateIdfDict()\n",
    "    BM25_Score = createSimilarityMatrix(stemmedSentences,idf,k,b)\n",
    "    sentenceScore = textRank(stemmedSentences,BM25_Score,d)\n",
    "    file = open(outPath,\"w+\")\n",
    "    n = int(ratio * len(sentences))\n",
    "    \n",
    "    #print(sentenceScore)\n",
    "    sentenceScore = dict(sorted(sentenceScore.items(), key=lambda x:x[1], reverse=True)[:n])\n",
    "    sentenceScore = sorted(sentenceScore.items(), key=lambda x:x[0])\n",
    "    print(sentenceScore)\n",
    "    print()\n",
    "    for index in sentenceScore:\n",
    "        i = index[0]\n",
    "        file.write(sentences[i])\n",
    "        print(sentences[i])\n",
    "        file.write(\"\\n\")\n",
    "        print(\"\\n\")\n",
    "    file.close()"
   ]
  },
  {
   "cell_type": "code",
   "execution_count": 451,
   "metadata": {
    "scrolled": true
   },
   "outputs": [
    {
     "name": "stdout",
     "output_type": "stream",
     "text": [
      "idf done\n",
      "[(3, 1.843007195591698), (9, 2.3299270808429435), (15, 1.7364141278868264), (16, 1.4718750933778582), (18, 1.7042117657409341), (21, 1.991132131721855), (23, 1.5271616223367093), (36, 2.3358843998270644), (40, 1.8243634932393884)]\n",
      "\n",
      "Novelty nonhuman accounts have been a Twitter staple since Sockington, a Boston-area housecat, joined the service in March 2007 on his way to 1.4 million followers. But they've been in the news again recently after one user created @olympicseat, a tongue-in-cheek response to the curiously vacant seats at Olympic venues in London. In the span of a few days, it has amassed more than 21,000 followers.\n",
      "\n",
      "\n",
      "\"I figured the best way to test the waters was with a pseudonym,\" said the Burlington, Vermont, resident who asked that her name not be published to preserve the anonymity of her Twitter persona. \"I wouldn't offend friends and colleagues if I didn't follow them, and I could make a polite exit from Twitter when I was done poking around.\"\n",
      "\n",
      "\n",
      "\"I love everything about the fog,\" said the man who created @KarlTheFog in August 2010. \"I think the way it sneaks over the hills is beautiful, mysterious and even a little romantic. I love how it stops at certain points above the city, creating a wall of clouds. And having moved here from a city where it was 100-plus degrees in the summer, I was mostly excited to not be dripping in sweat for three consecutive months.\"\n",
      "\n",
      "\n",
      "The man, who also requested anonymity, was inspired by @BPGlobalPR, a popular parody response to the BP oil spill in the Gulf of Mexico. Through the lens of \"Karl the Fog,\" he reports on the public's feelings toward the fog and acts like a PR rep for the maligned form of weather -- with a witty bent. Karl already has more than 5,000 followers.\n",
      "\n",
      "\n",
      "\"[I get] lots of weather puns and haikus. My favorite tweets are when people take pictures of Karl and post them on Twitter or Instagram,\" the man said. \"Seeing so many people pick up on it and tag Karl in their pictures has been overwhelmingly cool.\"\n",
      "\n",
      "\n",
      "The Orange Cone was originally a MySpace account but came to Twitter after its creator discovered the witty tweets of Bronx Zoo's Cobra, last year's famously escaped snake, and motorsports satirist @nascarcasm. Today the Orange Cone keeps a following of more than 20,000 users up to date on NASCAR happenings.\n",
      "\n",
      "\n",
      "\"People notice cones in their everyday life and send pictures to me by the hundreds,\" said the man behind the Cone, who asked that his name not be used. \"I find that hilarious -- people stopping what they are doing in the real world to take a picture of an orange cone. I love it.\"\n",
      "\n",
      "\n",
      "\"I have a feeling, and I could be wrong, that the people that follow The Orange Cone find it to be more 'real' than some of the drivers out on the track,\" its creator said. \"They can reach out and in most cases get a response. And the fact that no one knows who it is -- which means it could be anyone -- just adds to the mystery and the enjoyment.\"\n",
      "\n",
      "\n",
      "Other Twitter users say that embodying nonhuman entities gives them the chance to create alter egos. \"The Cone gets to say and do the things I think we all wish we could do,\" its creator said.\n",
      "\n",
      "\n"
     ]
    }
   ],
   "source": [
    "summarize(\"C:\\\\NewsData\\\\NewsFile4.txt\",\"C:\\\\NewsData\\\\SummryNewsFile4.txt\",0.2)\n"
   ]
  },
  {
   "cell_type": "code",
   "execution_count": null,
   "metadata": {},
   "outputs": [],
   "source": []
  },
  {
   "cell_type": "code",
   "execution_count": null,
   "metadata": {},
   "outputs": [],
   "source": []
  },
  {
   "cell_type": "code",
   "execution_count": null,
   "metadata": {},
   "outputs": [],
   "source": []
  }
 ],
 "metadata": {
  "kernelspec": {
   "display_name": "Python 3",
   "language": "python",
   "name": "python3"
  },
  "language_info": {
   "codemirror_mode": {
    "name": "ipython",
    "version": 3
   },
   "file_extension": ".py",
   "mimetype": "text/x-python",
   "name": "python",
   "nbconvert_exporter": "python",
   "pygments_lexer": "ipython3",
   "version": "3.6.4"
  }
 },
 "nbformat": 4,
 "nbformat_minor": 2
}
