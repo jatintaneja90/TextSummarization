{
 "cells": [
  {
   "cell_type": "code",
   "execution_count": null,
   "metadata": {},
   "outputs": [],
   "source": [
    "def computeBM25Score(R,S,tf,k,b,avgDL):\n",
    "    S = S.spilt()\n",
    "    R = R.Spilt()\n",
    "    score = 0\n",
    "    for ws in S:\n",
    "        numerator = tf[ws] * (k + 1)\n",
    "        numerator = tf[ws] + k * (1- b + b * (len(R)/avgDL))\n",
    "        score += idf(ws)  * numerator/numerator\n",
    "    return score "
   ]
  },
  {
   "cell_type": "code",
   "execution_count": null,
   "metadata": {},
   "outputs": [],
   "source": [
    "def readFile(path):\n",
    "    file = open(path,\"r\")\n",
    "    sentences = []\n",
    "    for line in file:\n",
    "        sentences.append(line)\n",
    "    file.close()\n",
    "    return sentences"
   ]
  },
  {
   "cell_type": "code",
   "execution_count": null,
   "metadata": {},
   "outputs": [],
   "source": [
    "def createSimilarityMatrix(sentences,k,b):\n",
    "    BM25_scores = [[0 for x in range(len(sentences))] for y in range(len(sentences))]\n",
    "    avgDL = computeAvgDL(sentences)\n",
    "    for i in range(len(sentences)):\n",
    "        for j in range(len(sentences)):\n",
    "            if i == j:\n",
    "                BM25_scores[i][j] = 1\n",
    "            else:\n",
    "                tf = generateTF(sentence[i],sentence[j])\n",
    "                BM25_scores[i][j] = computeBM25Score(sentence[i],sentence[j],tf,k,b,avgDL)\n",
    "    return BM25_score"
   ]
  },
  {
   "cell_type": "code",
   "execution_count": null,
   "metadata": {},
   "outputs": [],
   "source": [
    "def computeAvgDL(sentences):\n",
    "    sum =  0\n",
    "    for s in sentences:\n",
    "        sum += len(s.split())\n",
    "    avg = sum/len(sentences)\n",
    "    return avg"
   ]
  },
  {
   "cell_type": "code",
   "execution_count": null,
   "metadata": {},
   "outputs": [],
   "source": [
    "def generateTF(R,S):\n",
    "    tf = {}\n",
    "    S = S.spilt()\n",
    "    R = R.Spilt()\n",
    "    for ws in S:\n",
    "        if ws in R:\n",
    "            if ws in tf:\n",
    "                tf[ws] += 1\n",
    "            else:\n",
    "                tf[ws] = 1\n",
    "        else:\n",
    "            tf[ws] = 0\n",
    "    return tf"
   ]
  },
  {
   "cell_type": "code",
   "execution_count": null,
   "metadata": {},
   "outputs": [],
   "source": [
    "def textRank(sentences,BM25_Score,d):\n",
    "    ws = {}\n",
    "    #assigning initial pagerank \n",
    "    for i in range(len(sentences)):\n",
    "        ws[i] = 1/len(sentences)\n",
    "    currSum = 0\n",
    "    prevSum = -1\n",
    "    \n",
    "    count = 0\n",
    "    while((currSum - prevSum) == 0 or count != 10 ):\n",
    "        prevSum = currSum\n",
    "        count += 1\n",
    "        for i in range(len(sentences)):\n",
    "            inlinkContri = 0\n",
    "            for j in range(0,i-1):\n",
    "                outlinkContrib = 0\n",
    "                for k in range(j+1,len(sentence)):\n",
    "                    outlinkContrib += BM25_Score[j][k]\n",
    "                inlinkContri += BM25_Score[j][i] * ws[j]\n",
    "            ws[i] =  (1-d) + d * inlinkContri\n",
    "            currSum += ws[i]\n",
    "    return ws"
   ]
  },
  {
   "cell_type": "code",
   "execution_count": null,
   "metadata": {},
   "outputs": [],
   "source": [
    "def summarize(path,outPath,ratio):\n",
    "    b = 0.75\n",
    "    k = 1.2\n",
    "    d = 0.85\n",
    "    sentences = readFile(path)\n",
    "    BM25_Score = createSimilarityMatrix(sentences,k,b)\n",
    "    sentenceScore = textRank(sentences,BM25_Score,d)\n",
    "    file = open(outPath,\"w+\")\n",
    "    n = int(ratio * len(sentences))\n",
    "    sentenceScore =sorted(sentenceScore.items(), key=operator.itemgetter(1))[:n]\n",
    "    for index in sentenceScore:\n",
    "        file.write(sentences[index])\n",
    "        print(sentences[index])\n",
    "        file.write(\"\\n\")\n",
    "        print(\"\\n\")\n",
    "    file.close()\n",
    "        \n",
    "     \n",
    "    "
   ]
  }
 ],
 "metadata": {
  "kernelspec": {
   "display_name": "Python 3",
   "language": "python",
   "name": "python3"
  },
  "language_info": {
   "codemirror_mode": {
    "name": "ipython",
    "version": 3
   },
   "file_extension": ".py",
   "mimetype": "text/x-python",
   "name": "python",
   "nbconvert_exporter": "python",
   "pygments_lexer": "ipython3",
   "version": "3.6.4"
  }
 },
 "nbformat": 4,
 "nbformat_minor": 2
}
