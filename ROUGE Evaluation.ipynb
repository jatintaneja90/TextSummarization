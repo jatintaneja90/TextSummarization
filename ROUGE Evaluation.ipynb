{
 "cells": [
  {
   "cell_type": "code",
   "execution_count": 138,
   "metadata": {
    "collapsed": true
   },
   "outputs": [],
   "source": [
    "# systemGenerated.txt,humanGenerated.txt\n",
    "#  reading summary from a file\n",
    "from os import listdir,getcwd\n",
    "from os.path import isfile, join\n",
    "def readResults(filename, subDirName):\n",
    "    allSentences = []\n",
    "    dirName = 'summarisation'\n",
    "    file = join(getcwd(), dirName, subDirName, filename)\n",
    "    f = open(file,'r')\n",
    "    for line in f:\n",
    "        allSentences.append(line.strip())\n",
    "    f.close()\n",
    "    return allSentences"
   ]
  },
  {
   "cell_type": "code",
   "execution_count": 139,
   "metadata": {},
   "outputs": [],
   "source": [
    "systemGenerated = readResults('systemGenerated_1.txt', 'systemGenerated')"
   ]
  },
  {
   "cell_type": "code",
   "execution_count": 140,
   "metadata": {},
   "outputs": [
    {
     "data": {
      "text/plain": [
       "['A sign held univers michigan student host espn ’ s colleg gameday pregam said ‘ Hi lizzi seeberg ’ spark outrag appear taunt girl accus univers notr dame footbal player sexual assault aug 31 , 2010 alleg appear ignor step way .',\n",
       " 'Ms seeberg , 19 , freshman St mari ’ s colleg , small women ’ s cathol colleg liter street mighti notr dame .',\n",
       " 'unabl live aftermath alleg sexual assault notr dame ’ s refus acknowledg repeat attempt engag school manner , Ms seeberg dead nine day later – devout cathol overdos antidepress prescrib treat anxieti depress .',\n",
       " 'have seemingli dissip ether time , lizzi seeberg ’ s , alleg plight , weren ’ t mind peopl saturday morn sign say ‘ Hi lizzi seeberg ’ appear colleg gameday co-host desmond howard discuss notr dame-michigan game play later day UM ’ s campu .',\n",
       " 'Ms seeberg ’ s stori took month public accus notr dame footbal player sexual assault . the alleg detail polic report obtain nation cathol report .',\n",
       " \"the day chicago tribun Ms seeberg ’ s alleg subsequ suicid public – month fact – notr dame footbal coach joke media confer ‘ did n't know tribun afford report pepper question case , ’ accord ncr . coach kelli did suspend player question accus look , play game , singl practic .\",\n",
       " 'Ms seeberg ’ s case isn ’ t first one femal accus notr dame footbal player sexual assault , rape improprieti .']"
      ]
     },
     "execution_count": 140,
     "metadata": {},
     "output_type": "execute_result"
    }
   ],
   "source": [
    "systemGenerated"
   ]
  },
  {
   "cell_type": "code",
   "execution_count": 141,
   "metadata": {
    "collapsed": true
   },
   "outputs": [],
   "source": [
    "humanGenerated = readResults('humanGenerated_1.txt', 'humanGenerated')"
   ]
  },
  {
   "cell_type": "code",
   "execution_count": 142,
   "metadata": {},
   "outputs": [
    {
     "data": {
      "text/plain": [
       "['Despite widespread outrage, he claims the sign was meant to bring attention to her case, and that of others whose accusations of sexual assault at the University of Notre Dame have been ignored or covered up',\n",
       " 'Lizzy Seeberg, 19, was a freshman at a small Catholic college across the street from Notre Dame',\n",
       " 'Ms Seeberg had a history of anxiety and depression, and overdosed on her prescribed medication to kill herself',\n",
       " 'Notre Dame administration refused for over two years to even acknowledge the accusations, outside of A JOKE made by football coach Brian Kelly',\n",
       " 'The football player accused of the assault was never suspended, never missed a game and was allowed to attend all practices',\n",
       " \"The trip was Notre Dame's last to Michigan, the student felt the need to 'stand up for what's right'\"]"
      ]
     },
     "execution_count": 142,
     "metadata": {},
     "output_type": "execute_result"
    }
   ],
   "source": [
    "humanGenerated"
   ]
  },
  {
   "cell_type": "code",
   "execution_count": 95,
   "metadata": {
    "collapsed": true
   },
   "outputs": [],
   "source": [
    "from nltk import word_tokenize\n",
    "def getUnigrams(textArr):\n",
    "    text = ''.join(textArr)\n",
    "    unigrams = word_tokenize(text)\n",
    "    return unigrams"
   ]
  },
  {
   "cell_type": "code",
   "execution_count": 96,
   "metadata": {},
   "outputs": [],
   "source": [
    "#  implementing ROGUE score\n",
    "from nltk import bigrams\n",
    "def getBigrams(textArr):\n",
    "    bigrm = list(bigrams(getUnigrams(textArr)))\n",
    "    return bigrm"
   ]
  },
  {
   "cell_type": "code",
   "execution_count": 97,
   "metadata": {},
   "outputs": [],
   "source": [
    "# systemGeneratedUnigrams = getUnigrams(systemGenerated)\n",
    "systemGeneratedBigrams = getBigrams(systemGenerated)"
   ]
  },
  {
   "cell_type": "code",
   "execution_count": 98,
   "metadata": {},
   "outputs": [],
   "source": [
    "# humanGeneratedUnigrams = getUnigrams(humanGenerated)\n",
    "humanGeneratedBigrams = getBigrams(humanGenerated)"
   ]
  },
  {
   "cell_type": "code",
   "execution_count": 99,
   "metadata": {},
   "outputs": [],
   "source": [
    "overlappingBigrams = []\n",
    "for bigram in systemGeneratedBigrams:\n",
    "    if bigram in humanGeneratedBigrams:\n",
    "        overlappingBigrams.append(bigram)"
   ]
  },
  {
   "cell_type": "code",
   "execution_count": 100,
   "metadata": {},
   "outputs": [
    {
     "data": {
      "text/plain": [
       "[('sexual', 'assault'),\n",
       " (',', '19'),\n",
       " ('19', ','),\n",
       " ('sexual', 'assault'),\n",
       " ('sexual', 'assault'),\n",
       " ('sexual', 'assault'),\n",
       " ('case', ','),\n",
       " ('case', ','),\n",
       " ('sexual', 'assault')]"
      ]
     },
     "execution_count": 100,
     "metadata": {},
     "output_type": "execute_result"
    }
   ],
   "source": [
    "overlappingBigrams"
   ]
  },
  {
   "cell_type": "code",
   "execution_count": 101,
   "metadata": {},
   "outputs": [],
   "source": [
    "calculateRougeScore = len(overlappingBigrams)/len(humanGeneratedBigrams)"
   ]
  },
  {
   "cell_type": "code",
   "execution_count": 73,
   "metadata": {},
   "outputs": [
    {
     "data": {
      "text/plain": [
       "0.014388489208633094"
      ]
     },
     "execution_count": 73,
     "metadata": {},
     "output_type": "execute_result"
    }
   ],
   "source": [
    "calculateRougeScore"
   ]
  },
  {
   "cell_type": "code",
   "execution_count": 86,
   "metadata": {},
   "outputs": [
    {
     "data": {
      "text/plain": [
       "0.050359712230215826"
      ]
     },
     "execution_count": 86,
     "metadata": {},
     "output_type": "execute_result"
    }
   ],
   "source": [
    "calculateRougeScore"
   ]
  },
  {
   "cell_type": "code",
   "execution_count": 102,
   "metadata": {},
   "outputs": [
    {
     "data": {
      "text/plain": [
       "0.06474820143884892"
      ]
     },
     "execution_count": 102,
     "metadata": {},
     "output_type": "execute_result"
    }
   ],
   "source": [
    "calculateRougeScore"
   ]
  },
  {
   "cell_type": "code",
   "execution_count": 143,
   "metadata": {},
   "outputs": [],
   "source": [
    "# from pyrouge import Rouge155\n",
    "\n",
    "# # r = Rouge155()\n",
    "# r.system_dir = './summarisation/systemGenerated'\n",
    "# r.model_dir = '/summarisation/humanGenerated'\n",
    "# r.system_filename_pattern = 'systemGenerated_1.txt'\n",
    "# r.model_filename_pattern = 'humanGenerated_1.txt'\n",
    "\n",
    "# output = r.convert_and_evaluate(\n",
    "# print(output)\n",
    "# output_dict = r.output_to_dict(output)"
   ]
  },
  {
   "cell_type": "markdown",
   "metadata": {},
   "source": [
    "#  implement LCS program"
   ]
  },
  {
   "cell_type": "code",
   "execution_count": 128,
   "metadata": {
    "collapsed": true
   },
   "outputs": [],
   "source": [
    "\n",
    "def LCS(sentence1,sentence2):\n",
    "    m = len(sentence1)\n",
    "    n = len(sentence2)\n",
    "    b = [[0 for i in range(0,n+1)] for j in range(0,m+1)]\n",
    "    c = [[0 for i in range(0,n+1)] for j in range(0,m+1)]\n",
    "    for i in range(1,m+1):\n",
    "        for j in range(1,n+1):\n",
    "            if sentence1[i-1] == sentence2[j-1]:\n",
    "                c[i][j] = c[i-1][j-1]+1\n",
    "                b[i][j] = 1\n",
    "            elif c[i-1][j] >= c[i][j-1]:\n",
    "                c[i][j] = c[i-1][j]\n",
    "                b[i][j] = 2\n",
    "            else:\n",
    "                c[i][j] = c[i][j-1]\n",
    "                b[i][j] = 3\n",
    "    return c[m][n]"
   ]
  },
  {
   "cell_type": "code",
   "execution_count": null,
   "metadata": {},
   "outputs": [],
   "source": []
  },
  {
   "cell_type": "code",
   "execution_count": 133,
   "metadata": {
    "collapsed": true
   },
   "outputs": [],
   "source": [
    "#  should return RLCS score for now\n",
    "def LCSScore(refSummary, candidateSummary):\n",
    "    lscscore = LCS(refSummary,candidateSummary)\n",
    "    print(lscscore)\n",
    "    RLCS = lscscore/len(refSummary)\n",
    "    print(RLCS)\n",
    "    return RLCS"
   ]
  },
  {
   "cell_type": "code",
   "execution_count": 144,
   "metadata": {},
   "outputs": [
    {
     "name": "stdout",
     "output_type": "stream",
     "text": [
      "92\n",
      "0.4444444444444444\n",
      "0.4444444444444444\n",
      "48\n",
      "0.5052631578947369\n",
      "0.9497076023391813\n",
      "56\n",
      "0.509090909090909\n",
      "1.4587985114300903\n",
      "68\n",
      "0.4788732394366197\n",
      "1.93767175086671\n",
      "63\n",
      "0.5121951219512195\n",
      "2.4498668728179296\n",
      "54\n",
      "0.54\n",
      "2.9898668728179296\n",
      "61\n",
      "0.2946859903381642\n",
      "3.284552863156094\n",
      "64\n",
      "0.6736842105263158\n",
      "3.9582370736824095\n",
      "47\n",
      "0.42727272727272725\n",
      "4.385509800955137\n",
      "43\n",
      "0.3028169014084507\n",
      "4.688326702363588\n",
      "42\n",
      "0.34146341463414637\n",
      "5.029790116997734\n",
      "41\n",
      "0.41\n",
      "5.4397901169977345\n",
      "85\n",
      "0.4106280193236715\n",
      "5.850418136321406\n",
      "53\n",
      "0.5578947368421052\n",
      "6.408312873163512\n",
      "65\n",
      "0.5909090909090909\n",
      "6.9992219640726026\n",
      "68\n",
      "0.4788732394366197\n",
      "7.4780952035092225\n",
      "67\n",
      "0.5447154471544715\n",
      "8.022810650663693\n",
      "58\n",
      "0.58\n",
      "8.602810650663693\n",
      "85\n",
      "0.4106280193236715\n",
      "9.013438669987364\n",
      "58\n",
      "0.6105263157894737\n",
      "9.623964985776837\n",
      "60\n",
      "0.5454545454545454\n",
      "10.169419531231382\n",
      "68\n",
      "0.4788732394366197\n",
      "10.648292770668002\n",
      "63\n",
      "0.5121951219512195\n",
      "11.160487892619221\n",
      "54\n",
      "0.54\n",
      "11.700487892619222\n",
      "75\n",
      "0.36231884057971014\n",
      "12.062806733198933\n",
      "49\n",
      "0.5157894736842106\n",
      "12.578596206883143\n",
      "57\n",
      "0.5181818181818182\n",
      "13.09677802506496\n",
      "53\n",
      "0.3732394366197183\n",
      "13.470017461684678\n",
      "54\n",
      "0.43902439024390244\n",
      "13.909041851928581\n",
      "49\n",
      "0.49\n",
      "14.399041851928581\n",
      "92\n",
      "0.4444444444444444\n",
      "14.843486296373026\n",
      "56\n",
      "0.5894736842105263\n",
      "15.432959980583552\n",
      "67\n",
      "0.6090909090909091\n",
      "16.04205088967446\n",
      "73\n",
      "0.5140845070422535\n",
      "16.556135396716712\n",
      "73\n",
      "0.5934959349593496\n",
      "17.149631331676062\n",
      "60\n",
      "0.6\n",
      "17.749631331676063\n",
      "65\n",
      "0.3140096618357488\n",
      "18.06364099351181\n",
      "45\n",
      "0.47368421052631576\n",
      "18.537325204038126\n",
      "47\n",
      "0.42727272727272725\n",
      "18.964597931310852\n",
      "48\n",
      "0.3380281690140845\n",
      "19.302626100324936\n",
      "48\n",
      "0.3902439024390244\n",
      "19.69287000276396\n",
      "39\n",
      "0.39\n",
      "20.08287000276396\n"
     ]
    }
   ],
   "source": [
    "score = 0\n",
    "for systemLine in systemGenerated:\n",
    "    for humanLine in humanGenerated:\n",
    "        score += LCSScore(humanLine, systemLine)   \n",
    "        print(score)"
   ]
  },
  {
   "cell_type": "code",
   "execution_count": 145,
   "metadata": {},
   "outputs": [
    {
     "data": {
      "text/plain": [
       "20.08287000276396"
      ]
     },
     "execution_count": 145,
     "metadata": {},
     "output_type": "execute_result"
    }
   ],
   "source": [
    "score"
   ]
  },
  {
   "cell_type": "code",
   "execution_count": null,
   "metadata": {},
   "outputs": [],
   "source": []
  },
  {
   "cell_type": "code",
   "execution_count": null,
   "metadata": {
    "collapsed": true
   },
   "outputs": [],
   "source": []
  }
 ],
 "metadata": {
  "kernelspec": {
   "display_name": "Python 3",
   "language": "python",
   "name": "python3"
  },
  "language_info": {
   "codemirror_mode": {
    "name": "ipython",
    "version": 3
   },
   "file_extension": ".py",
   "mimetype": "text/x-python",
   "name": "python",
   "nbconvert_exporter": "python",
   "pygments_lexer": "ipython3",
   "version": "3.6.3"
  }
 },
 "nbformat": 4,
 "nbformat_minor": 2
}
