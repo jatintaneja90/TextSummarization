{
 "cells": [
  {
   "cell_type": "code",
   "execution_count": 151,
   "metadata": {
    "collapsed": true
   },
   "outputs": [],
   "source": [
    "# systemGenerated.txt,humanGenerated.txt\n",
    "#  reading summary from a file\n",
    "from os import listdir,getcwd\n",
    "from os.path import isfile, join\n",
    "def readResults(filename, subDirName):\n",
    "    allSentences = []\n",
    "    dirName = 'summarisation'\n",
    "    file = join(getcwd(), dirName, subDirName, filename)\n",
    "    f = open(file,'r')\n",
    "    for line in f:\n",
    "        allSentences.append(line.strip())\n",
    "    f.close()\n",
    "    return allSentences"
   ]
  },
  {
   "cell_type": "code",
   "execution_count": 152,
   "metadata": {},
   "outputs": [],
   "source": [
    "systemGenerated = readResults('systemGenerated_3.txt', 'systemGenerated')"
   ]
  },
  {
   "cell_type": "code",
   "execution_count": 153,
   "metadata": {},
   "outputs": [
    {
     "data": {
      "text/plain": [
       "['A sign held univers michigan student host espn ’ s colleg gameday pregam said ‘ Hi lizzi seeberg ’ spark outrag appear taunt girl accus univers notr dame footbal player sexual assault aug 31 , 2010 alleg appear ignor step way .',\n",
       " 'Ms seeberg , 19 , freshman St mari ’ s colleg , small women ’ s cathol colleg liter street mighti notr dame .',\n",
       " 'unabl live aftermath alleg sexual assault notr dame ’ s refus acknowledg repeat attempt engag school manner , Ms seeberg dead nine day later – devout cathol overdos antidepress prescrib treat anxieti depress .',\n",
       " 'Ms seeberg ’ s stori took month public accus notr dame footbal player sexual assault . the alleg detail polic report obtain nation cathol report .',\n",
       " \"the day chicago tribun Ms seeberg ’ s alleg subsequ suicid public – month fact – notr dame footbal coach joke media confer ‘ did n't know tribun afford report pepper question case , ’ accord ncr . coach kelli did suspend player question accus look , play game , singl practic .\",\n",
       " 'Ms seeberg ’ s case isn ’ t first one femal accus notr dame footbal player sexual assault , rape improprieti .']"
      ]
     },
     "execution_count": 153,
     "metadata": {},
     "output_type": "execute_result"
    }
   ],
   "source": [
    "systemGenerated"
   ]
  },
  {
   "cell_type": "code",
   "execution_count": 154,
   "metadata": {
    "collapsed": true
   },
   "outputs": [],
   "source": [
    "humanGenerated = readResults('humanGenerated_3.txt', 'humanGenerated')"
   ]
  },
  {
   "cell_type": "code",
   "execution_count": 155,
   "metadata": {},
   "outputs": [
    {
     "data": {
      "text/plain": [
       "['Despite widespread outrage, he claims the sign was meant to bring attention to her case, and that of others whose accusations of sexual assault at the University of Notre Dame have been ignored or covered up',\n",
       " 'Lizzy Seeberg, 19, was a freshman at a small Catholic college across the street from Notre Dame',\n",
       " 'Ms Seeberg had a history of anxiety and depression, and overdosed on her prescribed medication to kill herself',\n",
       " 'Notre Dame administration refused for over two years to even acknowledge the accusations, outside of A JOKE made by football coach Brian Kelly',\n",
       " 'The football player accused of the assault was never suspended, never missed a game and was allowed to attend all practices',\n",
       " \"The trip was Notre Dame's last to Michigan, the student felt the need to 'stand up for what's right'\"]"
      ]
     },
     "execution_count": 155,
     "metadata": {},
     "output_type": "execute_result"
    }
   ],
   "source": [
    "humanGenerated"
   ]
  },
  {
   "cell_type": "code",
   "execution_count": 156,
   "metadata": {
    "collapsed": true
   },
   "outputs": [],
   "source": [
    "from nltk import word_tokenize\n",
    "def getUnigrams(textArr):\n",
    "    text = ''.join(textArr)\n",
    "    unigrams = word_tokenize(text)\n",
    "    return unigrams"
   ]
  },
  {
   "cell_type": "code",
   "execution_count": 157,
   "metadata": {},
   "outputs": [],
   "source": [
    "#  implementing ROGUE score\n",
    "from nltk import bigrams\n",
    "def getBigrams(textArr):\n",
    "    bigrm = list(bigrams(getUnigrams(textArr)))\n",
    "    return bigrm"
   ]
  },
  {
   "cell_type": "code",
   "execution_count": 158,
   "metadata": {},
   "outputs": [],
   "source": [
    "# systemGeneratedUnigrams = getUnigrams(systemGenerated)\n",
    "systemGeneratedBigrams = getBigrams(systemGenerated)"
   ]
  },
  {
   "cell_type": "code",
   "execution_count": 159,
   "metadata": {},
   "outputs": [],
   "source": [
    "# humanGeneratedUnigrams = getUnigrams(humanGenerated)\n",
    "humanGeneratedBigrams = getBigrams(humanGenerated)"
   ]
  },
  {
   "cell_type": "code",
   "execution_count": 160,
   "metadata": {},
   "outputs": [],
   "source": [
    "overlappingBigrams = []\n",
    "for bigram in systemGeneratedBigrams:\n",
    "    if bigram in humanGeneratedBigrams:\n",
    "        overlappingBigrams.append(bigram)"
   ]
  },
  {
   "cell_type": "code",
   "execution_count": 161,
   "metadata": {},
   "outputs": [
    {
     "data": {
      "text/plain": [
       "[('sexual', 'assault'),\n",
       " (',', '19'),\n",
       " ('19', ','),\n",
       " ('sexual', 'assault'),\n",
       " ('sexual', 'assault'),\n",
       " ('case', ','),\n",
       " ('sexual', 'assault')]"
      ]
     },
     "execution_count": 161,
     "metadata": {},
     "output_type": "execute_result"
    }
   ],
   "source": [
    "overlappingBigrams"
   ]
  },
  {
   "cell_type": "code",
   "execution_count": 162,
   "metadata": {},
   "outputs": [],
   "source": [
    "calculateRougeScore = len(overlappingBigrams)/len(humanGeneratedBigrams)"
   ]
  },
  {
   "cell_type": "code",
   "execution_count": 163,
   "metadata": {},
   "outputs": [
    {
     "data": {
      "text/plain": [
       "0.050359712230215826"
      ]
     },
     "execution_count": 163,
     "metadata": {},
     "output_type": "execute_result"
    }
   ],
   "source": [
    "calculateRougeScore"
   ]
  },
  {
   "cell_type": "code",
   "execution_count": null,
   "metadata": {},
   "outputs": [],
   "source": []
  },
  {
   "cell_type": "code",
   "execution_count": null,
   "metadata": {},
   "outputs": [],
   "source": []
  },
  {
   "cell_type": "code",
   "execution_count": 143,
   "metadata": {},
   "outputs": [],
   "source": [
    "# from pyrouge import Rouge155\n",
    "\n",
    "# # r = Rouge155()\n",
    "# r.system_dir = './summarisation/systemGenerated'\n",
    "# r.model_dir = '/summarisation/humanGenerated'\n",
    "# r.system_filename_pattern = 'systemGenerated_1.txt'\n",
    "# r.model_filename_pattern = 'humanGenerated_1.txt'\n",
    "\n",
    "# output = r.convert_and_evaluate(\n",
    "# print(output)\n",
    "# output_dict = r.output_to_dict(output)"
   ]
  },
  {
   "cell_type": "markdown",
   "metadata": {},
   "source": [
    "#  implement LCS program"
   ]
  },
  {
   "cell_type": "code",
   "execution_count": 128,
   "metadata": {
    "collapsed": true
   },
   "outputs": [],
   "source": [
    "\n",
    "def LCS(sentence1,sentence2):\n",
    "    m = len(sentence1)\n",
    "    n = len(sentence2)\n",
    "    b = [[0 for i in range(0,n+1)] for j in range(0,m+1)]\n",
    "    c = [[0 for i in range(0,n+1)] for j in range(0,m+1)]\n",
    "    for i in range(1,m+1):\n",
    "        for j in range(1,n+1):\n",
    "            if sentence1[i-1] == sentence2[j-1]:\n",
    "                c[i][j] = c[i-1][j-1]+1\n",
    "                b[i][j] = 1\n",
    "            elif c[i-1][j] >= c[i][j-1]:\n",
    "                c[i][j] = c[i-1][j]\n",
    "                b[i][j] = 2\n",
    "            else:\n",
    "                c[i][j] = c[i][j-1]\n",
    "                b[i][j] = 3\n",
    "    return c[m][n]"
   ]
  },
  {
   "cell_type": "code",
   "execution_count": null,
   "metadata": {},
   "outputs": [],
   "source": []
  },
  {
   "cell_type": "code",
   "execution_count": 167,
   "metadata": {
    "collapsed": true
   },
   "outputs": [],
   "source": [
    "#  should return RLCS score for now\n",
    "def LCSScore(refSummary, candidateSummary):\n",
    "    lscscore = LCS(refSummary,candidateSummary)\n",
    "#     print(lscscore)\n",
    "    RLCS = lscscore/len(refSummary)\n",
    "#     print(RLCS)\n",
    "    return RLCS"
   ]
  },
  {
   "cell_type": "code",
   "execution_count": 168,
   "metadata": {},
   "outputs": [],
   "source": [
    "score = 0\n",
    "for systemLine in systemGenerated:\n",
    "    for humanLine in humanGenerated:\n",
    "        score += LCSScore(humanLine, systemLine)   \n",
    "#         print(score)"
   ]
  },
  {
   "cell_type": "code",
   "execution_count": 169,
   "metadata": {},
   "outputs": [
    {
     "data": {
      "text/plain": [
       "16.985192760808438"
      ]
     },
     "execution_count": 169,
     "metadata": {},
     "output_type": "execute_result"
    }
   ],
   "source": [
    "score"
   ]
  },
  {
   "cell_type": "code",
   "execution_count": null,
   "metadata": {},
   "outputs": [],
   "source": []
  },
  {
   "cell_type": "code",
   "execution_count": null,
   "metadata": {
    "collapsed": true
   },
   "outputs": [],
   "source": []
  }
 ],
 "metadata": {
  "kernelspec": {
   "display_name": "Python 3",
   "language": "python",
   "name": "python3"
  },
  "language_info": {
   "codemirror_mode": {
    "name": "ipython",
    "version": 3
   },
   "file_extension": ".py",
   "mimetype": "text/x-python",
   "name": "python",
   "nbconvert_exporter": "python",
   "pygments_lexer": "ipython3",
   "version": "3.6.3"
  }
 },
 "nbformat": 4,
 "nbformat_minor": 2
}
