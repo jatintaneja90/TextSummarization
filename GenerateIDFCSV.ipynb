{
 "cells": [
  {
   "cell_type": "code",
   "execution_count": 21,
   "metadata": {},
   "outputs": [],
   "source": [
    "from os import listdir,getcwd\n",
    "from os.path import isfile, join\n",
    "from math import log\n",
    "\n",
    "sourceDir = 'WikiData/csvOutput/'\n",
    "destFile = 'finalIdfscore.csv'\n",
    "totalDocFile = 'totalDocs.txt'\n",
    "wordCountDict = {}\n",
    "filepath = join(getcwd(), sourceDir)\n",
    "allFiles = [f for f in listdir(filepath) if f.endswith('_stems.csv') and isfile(join(filepath, f))]\n",
    "totalArticles = 0\n",
    "for file in allFiles:\n",
    "    filename = join(filepath, file)\n",
    "    for line in open(filename,'r'):\n",
    "        if 'most_freq_term' in line:\n",
    "            continue\n",
    "        lineArr = line.split(',')\n",
    "        if len(lineArr) != 5:\n",
    "            continue\n",
    "        stemmedWord = lineArr[0]\n",
    "        count = int(lineArr[1])\n",
    "        totalDocs = lineArr[2]\n",
    "        if stemmedWord in wordCountDict:\n",
    "            wordCountDict[stemmedWord] += count\n",
    "        else:\n",
    "            wordCountDict[stemmedWord] = count\n",
    "    totalArticles += int(totalDocs)\n",
    "\n",
    "totalDocfile = join(filepath, totalDocFile)\n",
    "f = open(totalDocfile, 'w')\n",
    "f.write(str(totalArticles))\n",
    "f.close()\n",
    "\n",
    "file = join(filepath, destFile)\n",
    "f = open(file,'w')\n",
    "for key, value in sorted(wordCountDict.items(), key=lambda x:x[1], reverse=True):\n",
    "#     print( key, value)\n",
    "    val = 1.0 + float(value)\n",
    "    total = totalArticles/val\n",
    "    logTotal = log(total)\n",
    "    f.write(str(key) + ',' + str(logTotal) + ', \\n')\n",
    "f.close()"
   ]
  },
  {
   "cell_type": "code",
   "execution_count": null,
   "metadata": {
    "collapsed": true
   },
   "outputs": [],
   "source": []
  }
 ],
 "metadata": {
  "kernelspec": {
   "display_name": "Python 3",
   "language": "python",
   "name": "python3"
  },
  "language_info": {
   "codemirror_mode": {
    "name": "ipython",
    "version": 3
   },
   "file_extension": ".py",
   "mimetype": "text/x-python",
   "name": "python",
   "nbconvert_exporter": "python",
   "pygments_lexer": "ipython3",
   "version": "3.6.3"
  }
 },
 "nbformat": 4,
 "nbformat_minor": 2
}
